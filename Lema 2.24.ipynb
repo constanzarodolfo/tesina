{
 "cells": [
  {
   "cell_type": "code",
   "execution_count": 1,
   "id": "579da6c5",
   "metadata": {},
   "outputs": [],
   "source": [
    "load(\"Productos c-d.py\")\n",
    "load(\"g2.py\")\n",
    "%display latex\n",
    "d0,d1,d2,d3,d4,d5,d6,d7,d8,d9,d10,d11,d12,d13 = g2_basis"
   ]
  },
  {
   "cell_type": "markdown",
   "id": "3e570657",
   "metadata": {},
   "source": [
    "## Lema 2.24"
   ]
  },
  {
   "cell_type": "markdown",
   "id": "57df4d15",
   "metadata": {},
   "source": [
    "Si $\\mathcal J$ es un ideal de $\\mathfrak g_2$ y $\\mathcal J \\neq 0$, entonces existe $i\\in \\{0,1,\\dots,13\\}$ tal que $D_i \\in \\mathcal J$."
   ]
  },
  {
   "cell_type": "markdown",
   "id": "99dab1f8",
   "metadata": {},
   "source": [
    "#### Demostración"
   ]
  },
  {
   "cell_type": "markdown",
   "id": "d93c3b52",
   "metadata": {},
   "source": [
    "*En esta demostración se usan:*\n",
    "\n",
    "*`g2_basis`: una lista con los elementos de una base de $\\mathfrak g_2$ ortonormal para la métrica bi-invariante, sus elementos en los programas los denotamos `d0,d1,...,d13`*\n",
    "\n",
    "*`g2_esc_bon`: función que recibe un elemento en $\\mathfrak g_2$ y devuelve un vector con los escalares en la base `g2_basis`*\n",
    "\n",
    "*`bracket`: función que recibe dos matrices y devuelve el corchete de matrices*"
   ]
  },
  {
   "cell_type": "markdown",
   "id": "9bc759ca",
   "metadata": {},
   "source": [
    "Como $\\mathcal J \\neq 0$, existe $X\\in\\mathcal J$ no nulo. Luego, deben existir $a_i\\in \\mathbb R$ (no todos nulos) tales que $X =\\sum_{i=0}^{13} a_i D_i$."
   ]
  },
  {
   "cell_type": "code",
   "execution_count": 36,
   "id": "69bbd980",
   "metadata": {},
   "outputs": [],
   "source": [
    "X = sum(var('a'+str(i))*g2_basis[i] for i in range(14))"
   ]
  },
  {
   "cell_type": "markdown",
   "id": "f09ea693",
   "metadata": {},
   "source": [
    "$\\bullet$ Supongamos que $a_0\\neq 0$. Entonces"
   ]
  },
  {
   "cell_type": "code",
   "execution_count": 11,
   "id": "1b8e4794",
   "metadata": {},
   "outputs": [
    {
     "data": {
      "text/html": [
       "<html><script type=\"math/tex; mode=display\">\\newcommand{\\Bold}[1]{\\mathbf{#1}}\\left(0,\\,0,\\,0,\\,0,\\,0,\\,0,\\,\\frac{1}{6144} \\, a_{0},\\,0,\\,0,\\,0,\\,0,\\,0,\\,0,\\,0\\right)</script></html>"
      ],
      "text/latex": [
       "$$\\newcommand{\\Bold}[1]{\\mathbf{#1}}\\left(0,\\,0,\\,0,\\,0,\\,0,\\,0,\\,\\frac{1}{6144} \\, a_{0},\\,0,\\,0,\\,0,\\,0,\\,0,\\,0,\\,0\\right)$$"
      ],
      "text/plain": [
       "(0, 0, 0, 0, 0, 0, 1/6144*a0, 0, 0, 0, 0, 0, 0, 0)"
      ]
     },
     "execution_count": 11,
     "metadata": {},
     "output_type": "execute_result"
    }
   ],
   "source": [
    "X0 = bracket(bracket(bracket(bracket(bracket(bracket(bracket(X,d1),d7),d10),d12),d3),d10),d5)\n",
    "g2_esc_bon(X0)"
   ]
  },
  {
   "cell_type": "markdown",
   "id": "9f9271cf",
   "metadata": {},
   "source": [
    "De donde se tiene que $D_6 \\in \\mathcal J$."
   ]
  },
  {
   "cell_type": "markdown",
   "id": "697df05b",
   "metadata": {},
   "source": [
    "$\\bullet$ Supongamos que $a_1\\neq 0$. Entonces"
   ]
  },
  {
   "cell_type": "code",
   "execution_count": 12,
   "id": "a6431e9f",
   "metadata": {},
   "outputs": [
    {
     "data": {
      "text/html": [
       "<html><script type=\"math/tex; mode=display\">\\newcommand{\\Bold}[1]{\\mathbf{#1}}\\left(0,\\,0,\\,0,\\,0,\\,0,\\,\\frac{1}{1024} \\, a_{1},\\,0,\\,0,\\,0,\\,0,\\,0,\\,0,\\,0,\\,0\\right)</script></html>"
      ],
      "text/latex": [
       "$$\\newcommand{\\Bold}[1]{\\mathbf{#1}}\\left(0,\\,0,\\,0,\\,0,\\,0,\\,\\frac{1}{1024} \\, a_{1},\\,0,\\,0,\\,0,\\,0,\\,0,\\,0,\\,0,\\,0\\right)$$"
      ],
      "text/plain": [
       "(0, 0, 0, 0, 0, 1/1024*a1, 0, 0, 0, 0, 0, 0, 0, 0)"
      ]
     },
     "execution_count": 12,
     "metadata": {},
     "output_type": "execute_result"
    }
   ],
   "source": [
    "X1 = bracket(bracket(bracket(bracket(bracket(bracket(X,d0),d1),d4),d0),d1),d0)\n",
    "g2_esc_bon(X1)"
   ]
  },
  {
   "cell_type": "markdown",
   "id": "17b33323",
   "metadata": {},
   "source": [
    "De donde se tiene que $D_5 \\in \\mathcal J$."
   ]
  },
  {
   "cell_type": "markdown",
   "id": "bbc30ea6",
   "metadata": {},
   "source": [
    "$\\bullet$ Supongamos que $a_2\\neq 0$. Entonces"
   ]
  },
  {
   "cell_type": "code",
   "execution_count": 14,
   "id": "e5b2bd9f",
   "metadata": {},
   "outputs": [
    {
     "data": {
      "text/html": [
       "<html><script type=\"math/tex; mode=display\">\\newcommand{\\Bold}[1]{\\mathbf{#1}}\\left(0,\\,0,\\,0,\\,0,\\,0,\\,\\frac{1}{1024} \\, a_{2},\\,0,\\,0,\\,0,\\,0,\\,0,\\,0,\\,0,\\,0\\right)</script></html>"
      ],
      "text/latex": [
       "$$\\newcommand{\\Bold}[1]{\\mathbf{#1}}\\left(0,\\,0,\\,0,\\,0,\\,0,\\,\\frac{1}{1024} \\, a_{2},\\,0,\\,0,\\,0,\\,0,\\,0,\\,0,\\,0,\\,0\\right)$$"
      ],
      "text/plain": [
       "(0, 0, 0, 0, 0, 1/1024*a2, 0, 0, 0, 0, 0, 0, 0, 0)"
      ]
     },
     "execution_count": 14,
     "metadata": {},
     "output_type": "execute_result"
    }
   ],
   "source": [
    "X2 = bracket(bracket(bracket(bracket(bracket(bracket(X,d0),d2),d4),d0),d1),d0)\n",
    "g2_esc_bon(X2)"
   ]
  },
  {
   "cell_type": "markdown",
   "id": "f4ec7cdb",
   "metadata": {},
   "source": [
    "De donde se tiene que $D_6 \\in \\mathcal J$."
   ]
  },
  {
   "cell_type": "markdown",
   "id": "bb56973a",
   "metadata": {},
   "source": [
    "$\\bullet$ Supongamos que $a_3\\neq 0$. Entonces, por un lado"
   ]
  },
  {
   "cell_type": "code",
   "execution_count": 22,
   "id": "67aae490",
   "metadata": {},
   "outputs": [
    {
     "data": {
      "text/html": [
       "<html><script type=\"math/tex; mode=display\">\\newcommand{\\Bold}[1]{\\mathbf{#1}}\\left(0,\\,-\\frac{1}{2048} \\, \\sqrt{3} a_{3} - \\frac{1}{2048} \\, a_{0},\\,0,\\,0,\\,0,\\,0,\\,0,\\,0,\\,0,\\,0,\\,0,\\,0,\\,0,\\,0\\right)</script></html>"
      ],
      "text/latex": [
       "$$\\newcommand{\\Bold}[1]{\\mathbf{#1}}\\left(0,\\,-\\frac{1}{2048} \\, \\sqrt{3} a_{3} - \\frac{1}{2048} \\, a_{0},\\,0,\\,0,\\,0,\\,0,\\,0,\\,0,\\,0,\\,0,\\,0,\\,0,\\,0,\\,0\\right)$$"
      ],
      "text/plain": [
       "(0, -1/2048*sqrt(3)*a3 - 1/2048*a0, 0, 0, 0, 0, 0, 0, 0, 0, 0, 0, 0, 0)"
      ]
     },
     "execution_count": 22,
     "metadata": {},
     "output_type": "execute_result"
    }
   ],
   "source": [
    "X3 = bracket(bracket(bracket(bracket(bracket(bracket(X,d4),d0),d1),d0),d4),d0)\n",
    "g2_esc_bon(X3)"
   ]
  },
  {
   "cell_type": "markdown",
   "id": "1d0bdb0d",
   "metadata": {},
   "source": [
    "Por otro lado"
   ]
  },
  {
   "cell_type": "code",
   "execution_count": 25,
   "id": "4781acbd",
   "metadata": {},
   "outputs": [
    {
     "data": {
      "text/html": [
       "<html><script type=\"math/tex; mode=display\">\\newcommand{\\Bold}[1]{\\mathbf{#1}}\\left(0,\\,\\frac{1}{2048} \\, \\sqrt{3} a_{3} - \\frac{1}{2048} \\, a_{0},\\,0,\\,0,\\,0,\\,0,\\,0,\\,0,\\,0,\\,0,\\,0,\\,0,\\,0,\\,0\\right)</script></html>"
      ],
      "text/latex": [
       "$$\\newcommand{\\Bold}[1]{\\mathbf{#1}}\\left(0,\\,\\frac{1}{2048} \\, \\sqrt{3} a_{3} - \\frac{1}{2048} \\, a_{0},\\,0,\\,0,\\,0,\\,0,\\,0,\\,0,\\,0,\\,0,\\,0,\\,0,\\,0,\\,0\\right)$$"
      ],
      "text/plain": [
       "(0, 1/2048*sqrt(3)*a3 - 1/2048*a0, 0, 0, 0, 0, 0, 0, 0, 0, 0, 0, 0, 0)"
      ]
     },
     "execution_count": 25,
     "metadata": {},
     "output_type": "execute_result"
    }
   ],
   "source": [
    "Y3 = bracket(bracket(bracket(bracket(bracket(bracket(X,d5),d0),d1),d0),d5),d0)\n",
    "g2_esc_bon(Y3)"
   ]
  },
  {
   "cell_type": "markdown",
   "id": "553e7198",
   "metadata": {},
   "source": [
    "Luego, como $\\mathcal J$ es cerrado por la suma, tenemos que"
   ]
  },
  {
   "cell_type": "code",
   "execution_count": 27,
   "id": "5a4b21fd",
   "metadata": {},
   "outputs": [
    {
     "data": {
      "text/html": [
       "<html><script type=\"math/tex; mode=display\">\\newcommand{\\Bold}[1]{\\mathbf{#1}}\\left(0,\\,-\\frac{1}{1024} \\, \\sqrt{3} a_{3},\\,0,\\,0,\\,0,\\,0,\\,0,\\,0,\\,0,\\,0,\\,0,\\,0,\\,0,\\,0\\right)</script></html>"
      ],
      "text/latex": [
       "$$\\newcommand{\\Bold}[1]{\\mathbf{#1}}\\left(0,\\,-\\frac{1}{1024} \\, \\sqrt{3} a_{3},\\,0,\\,0,\\,0,\\,0,\\,0,\\,0,\\,0,\\,0,\\,0,\\,0,\\,0,\\,0\\right)$$"
      ],
      "text/plain": [
       "(0, -1/1024*sqrt(3)*a3, 0, 0, 0, 0, 0, 0, 0, 0, 0, 0, 0, 0)"
      ]
     },
     "execution_count": 27,
     "metadata": {},
     "output_type": "execute_result"
    }
   ],
   "source": [
    "Z3 = X3-Y3\n",
    "g2_esc_bon(Z3)"
   ]
  },
  {
   "cell_type": "markdown",
   "id": "a868cb2f",
   "metadata": {},
   "source": [
    "De donde se tiene que $D_2 \\in \\mathcal J$."
   ]
  },
  {
   "cell_type": "markdown",
   "id": "072c9c3d",
   "metadata": {},
   "source": [
    "$\\bullet$ Supongamos que $a_4\\neq 0$. Entonces"
   ]
  },
  {
   "cell_type": "code",
   "execution_count": 15,
   "id": "d8277b2a",
   "metadata": {},
   "outputs": [
    {
     "data": {
      "text/html": [
       "<html><script type=\"math/tex; mode=display\">\\newcommand{\\Bold}[1]{\\mathbf{#1}}\\left(\\frac{1}{1024} \\, a_{4},\\,0,\\,0,\\,0,\\,0,\\,0,\\,0,\\,0,\\,0,\\,0,\\,0,\\,0,\\,0,\\,0\\right)</script></html>"
      ],
      "text/latex": [
       "$$\\newcommand{\\Bold}[1]{\\mathbf{#1}}\\left(\\frac{1}{1024} \\, a_{4},\\,0,\\,0,\\,0,\\,0,\\,0,\\,0,\\,0,\\,0,\\,0,\\,0,\\,0,\\,0,\\,0\\right)$$"
      ],
      "text/plain": [
       "(1/1024*a4, 0, 0, 0, 0, 0, 0, 0, 0, 0, 0, 0, 0, 0)"
      ]
     },
     "execution_count": 15,
     "metadata": {},
     "output_type": "execute_result"
    }
   ],
   "source": [
    "X4 = bracket(bracket(bracket(bracket(bracket(bracket(X,d0),d1),d0),d4),d0),d1)\n",
    "g2_esc_bon(X4)"
   ]
  },
  {
   "cell_type": "markdown",
   "id": "d327f43f",
   "metadata": {},
   "source": [
    "De donde se tiene que $D_0 \\in \\mathcal J$."
   ]
  },
  {
   "cell_type": "markdown",
   "id": "a7132396",
   "metadata": {},
   "source": [
    "$\\bullet$ Supongamos que $a_5\\neq 0$. Entonces"
   ]
  },
  {
   "cell_type": "code",
   "execution_count": 16,
   "id": "7cf29850",
   "metadata": {},
   "outputs": [
    {
     "data": {
      "text/html": [
       "<html><script type=\"math/tex; mode=display\">\\newcommand{\\Bold}[1]{\\mathbf{#1}}\\left(0,\\,\\frac{1}{1024} \\, a_{5},\\,0,\\,0,\\,0,\\,0,\\,0,\\,0,\\,0,\\,0,\\,0,\\,0,\\,0,\\,0\\right)</script></html>"
      ],
      "text/latex": [
       "$$\\newcommand{\\Bold}[1]{\\mathbf{#1}}\\left(0,\\,\\frac{1}{1024} \\, a_{5},\\,0,\\,0,\\,0,\\,0,\\,0,\\,0,\\,0,\\,0,\\,0,\\,0,\\,0,\\,0\\right)$$"
      ],
      "text/plain": [
       "(0, 1/1024*a5, 0, 0, 0, 0, 0, 0, 0, 0, 0, 0, 0, 0)"
      ]
     },
     "execution_count": 16,
     "metadata": {},
     "output_type": "execute_result"
    }
   ],
   "source": [
    "X5 = bracket(bracket(bracket(bracket(bracket(bracket(X,d0),d1),d0),d4),d1),d0)\n",
    "g2_esc_bon(X5)"
   ]
  },
  {
   "cell_type": "markdown",
   "id": "dbb7248a",
   "metadata": {},
   "source": [
    "De donde se tiene que $D_1 \\in \\mathcal J$."
   ]
  },
  {
   "cell_type": "markdown",
   "id": "66a2db1f",
   "metadata": {},
   "source": [
    "$\\bullet$ Supongamos que $a_6\\neq 0$. Entonces"
   ]
  },
  {
   "cell_type": "code",
   "execution_count": 17,
   "id": "7d23cecc",
   "metadata": {},
   "outputs": [
    {
     "data": {
      "text/html": [
       "<html><script type=\"math/tex; mode=display\">\\newcommand{\\Bold}[1]{\\mathbf{#1}}\\left(-\\frac{1}{1024} \\, a_{6},\\,0,\\,0,\\,0,\\,0,\\,0,\\,0,\\,0,\\,0,\\,0,\\,0,\\,0,\\,0,\\,0\\right)</script></html>"
      ],
      "text/latex": [
       "$$\\newcommand{\\Bold}[1]{\\mathbf{#1}}\\left(-\\frac{1}{1024} \\, a_{6},\\,0,\\,0,\\,0,\\,0,\\,0,\\,0,\\,0,\\,0,\\,0,\\,0,\\,0,\\,0,\\,0\\right)$$"
      ],
      "text/plain": [
       "(-1/1024*a6, 0, 0, 0, 0, 0, 0, 0, 0, 0, 0, 0, 0, 0)"
      ]
     },
     "execution_count": 17,
     "metadata": {},
     "output_type": "execute_result"
    }
   ],
   "source": [
    "X6 = bracket(bracket(bracket(bracket(bracket(bracket(X,d0),d1),d0),d5),d0),d2)\n",
    "g2_esc_bon(X6)"
   ]
  },
  {
   "cell_type": "markdown",
   "id": "df6301eb",
   "metadata": {},
   "source": [
    "De donde se tiene que $D_0 \\in \\mathcal J$."
   ]
  },
  {
   "cell_type": "markdown",
   "id": "05770d04",
   "metadata": {},
   "source": [
    "$\\bullet$ Supongamos que $a_7\\neq 0$. Entonces"
   ]
  },
  {
   "cell_type": "code",
   "execution_count": 19,
   "id": "abc2be88",
   "metadata": {},
   "outputs": [
    {
     "data": {
      "text/html": [
       "<html><script type=\"math/tex; mode=display\">\\newcommand{\\Bold}[1]{\\mathbf{#1}}\\left(\\frac{1}{1024} \\, a_{7},\\,0,\\,0,\\,0,\\,0,\\,0,\\,0,\\,0,\\,0,\\,0,\\,0,\\,0,\\,0,\\,0\\right)</script></html>"
      ],
      "text/latex": [
       "$$\\newcommand{\\Bold}[1]{\\mathbf{#1}}\\left(\\frac{1}{1024} \\, a_{7},\\,0,\\,0,\\,0,\\,0,\\,0,\\,0,\\,0,\\,0,\\,0,\\,0,\\,0,\\,0,\\,0\\right)$$"
      ],
      "text/plain": [
       "(1/1024*a7, 0, 0, 0, 0, 0, 0, 0, 0, 0, 0, 0, 0, 0)"
      ]
     },
     "execution_count": 19,
     "metadata": {},
     "output_type": "execute_result"
    }
   ],
   "source": [
    "X7 = bracket(bracket(bracket(bracket(bracket(bracket(X,d0),d1),d0),d4),d0),d2)\n",
    "g2_esc_bon(X7)"
   ]
  },
  {
   "cell_type": "markdown",
   "id": "a7f93748",
   "metadata": {},
   "source": [
    "De donde se tiene que $D_0 \\in \\mathcal J$."
   ]
  },
  {
   "cell_type": "markdown",
   "id": "e93c3f40",
   "metadata": {},
   "source": [
    "$\\bullet$ Supongamos que $a_8\\neq 0$. Entonces"
   ]
  },
  {
   "cell_type": "code",
   "execution_count": 42,
   "id": "e1e43971",
   "metadata": {},
   "outputs": [
    {
     "data": {
      "text/html": [
       "<html><script type=\"math/tex; mode=display\">\\newcommand{\\Bold}[1]{\\mathbf{#1}}\\left(0,\\,0,\\,0,\\,-\\frac{1}{12288} \\, a_{8},\\,0,\\,0,\\,0,\\,0,\\,0,\\,0,\\,0,\\,0,\\,0,\\,0\\right)</script></html>"
      ],
      "text/latex": [
       "$$\\newcommand{\\Bold}[1]{\\mathbf{#1}}\\left(0,\\,0,\\,0,\\,-\\frac{1}{12288} \\, a_{8},\\,0,\\,0,\\,0,\\,0,\\,0,\\,0,\\,0,\\,0,\\,0,\\,0\\right)$$"
      ],
      "text/plain": [
       "(0, 0, 0, -1/12288*a8, 0, 0, 0, 0, 0, 0, 0, 0, 0, 0)"
      ]
     },
     "execution_count": 42,
     "metadata": {},
     "output_type": "execute_result"
    }
   ],
   "source": [
    "X8 = bracket(bracket(bracket(bracket(bracket(bracket(bracket(X,d4),d0),d1),d0),d5),d3),d13)\n",
    "vector(g2_esc_bon(X8)._sympy_().simplify()._sage_().list())"
   ]
  },
  {
   "cell_type": "markdown",
   "id": "b1c76fce",
   "metadata": {},
   "source": [
    "De donde se tiene que $D_3 \\in \\mathcal J$."
   ]
  },
  {
   "cell_type": "markdown",
   "id": "abf2b4ab",
   "metadata": {},
   "source": [
    "$\\bullet$ Supongamos que $a_9\\neq 0$. Entonces"
   ]
  },
  {
   "cell_type": "code",
   "execution_count": 34,
   "id": "c67725f6",
   "metadata": {},
   "outputs": [
    {
     "data": {
      "text/html": [
       "<html><script type=\"math/tex; mode=display\">\\newcommand{\\Bold}[1]{\\mathbf{#1}}\\left(0,\\,0,\\,0,\\,-\\frac{1}{12288} \\, a_{9},\\,0,\\,0,\\,0,\\,0,\\,0,\\,0,\\,0,\\,0,\\,0,\\,0\\right)</script></html>"
      ],
      "text/latex": [
       "$$\\newcommand{\\Bold}[1]{\\mathbf{#1}}\\left(0,\\,0,\\,0,\\,-\\frac{1}{12288} \\, a_{9},\\,0,\\,0,\\,0,\\,0,\\,0,\\,0,\\,0,\\,0,\\,0,\\,0\\right)$$"
      ],
      "text/plain": [
       "(0, 0, 0, -1/12288*a9, 0, 0, 0, 0, 0, 0, 0, 0, 0, 0)"
      ]
     },
     "execution_count": 34,
     "metadata": {},
     "output_type": "execute_result"
    }
   ],
   "source": [
    "X9 = bracket(bracket(bracket(bracket(bracket(bracket(bracket(X,d4),d5),d0),d2),d4),d3),d8)\n",
    "vector(g2_esc_bon(X9)._sympy_().simplify()._sage_().list())"
   ]
  },
  {
   "cell_type": "markdown",
   "id": "a9baba99",
   "metadata": {},
   "source": [
    "De donde se tiene que $D_3 \\in \\mathcal J$."
   ]
  },
  {
   "cell_type": "markdown",
   "id": "566f110f",
   "metadata": {},
   "source": [
    "$\\bullet$ Supongamos que $a_{10}\\neq 0$. Entonces"
   ]
  },
  {
   "cell_type": "code",
   "execution_count": 35,
   "id": "dda64ded",
   "metadata": {},
   "outputs": [
    {
     "data": {
      "text/html": [
       "<html><script type=\"math/tex; mode=display\">\\newcommand{\\Bold}[1]{\\mathbf{#1}}\\left(0,\\,0,\\,0,\\,\\frac{1}{3072} \\, a_{10},\\,0,\\,0,\\,0,\\,0,\\,0,\\,0,\\,0,\\,0,\\,0,\\,0\\right)</script></html>"
      ],
      "text/latex": [
       "$$\\newcommand{\\Bold}[1]{\\mathbf{#1}}\\left(0,\\,0,\\,0,\\,\\frac{1}{3072} \\, a_{10},\\,0,\\,0,\\,0,\\,0,\\,0,\\,0,\\,0,\\,0,\\,0,\\,0\\right)$$"
      ],
      "text/plain": [
       "(0, 0, 0, 1/3072*a10, 0, 0, 0, 0, 0, 0, 0, 0, 0, 0)"
      ]
     },
     "execution_count": 35,
     "metadata": {},
     "output_type": "execute_result"
    }
   ],
   "source": [
    "X10 = bracket(bracket(bracket(bracket(bracket(bracket(X,d0),d1),d0),d4),d3),d8)\n",
    "vector(g2_esc_bon(X10)._sympy_().simplify()._sage_().list())"
   ]
  },
  {
   "cell_type": "markdown",
   "id": "728deb15",
   "metadata": {},
   "source": [
    "De donde se tiene que $D_3 \\in \\mathcal J$."
   ]
  },
  {
   "cell_type": "markdown",
   "id": "85e0d9ed",
   "metadata": {},
   "source": [
    "$\\bullet$ Supongamos que $a_{11}\\neq 0$. Entonces"
   ]
  },
  {
   "cell_type": "code",
   "execution_count": 37,
   "id": "e01a1115",
   "metadata": {},
   "outputs": [
    {
     "data": {
      "text/html": [
       "<html><script type=\"math/tex; mode=display\">\\newcommand{\\Bold}[1]{\\mathbf{#1}}\\left(0,\\,0,\\,0,\\,-\\frac{1}{3072} \\, a_{11},\\,0,\\,0,\\,0,\\,0,\\,0,\\,0,\\,0,\\,0,\\,0,\\,0\\right)</script></html>"
      ],
      "text/latex": [
       "$$\\newcommand{\\Bold}[1]{\\mathbf{#1}}\\left(0,\\,0,\\,0,\\,-\\frac{1}{3072} \\, a_{11},\\,0,\\,0,\\,0,\\,0,\\,0,\\,0,\\,0,\\,0,\\,0,\\,0\\right)$$"
      ],
      "text/plain": [
       "(0, 0, 0, -1/3072*a11, 0, 0, 0, 0, 0, 0, 0, 0, 0, 0)"
      ]
     },
     "execution_count": 37,
     "metadata": {},
     "output_type": "execute_result"
    }
   ],
   "source": [
    "X11 = bracket(bracket(bracket(bracket(bracket(bracket(X,d0),d1),d0),d4),d3),d13)\n",
    "vector(g2_esc_bon(X11)._sympy_().simplify()._sage_().list())"
   ]
  },
  {
   "cell_type": "markdown",
   "id": "bac7f087",
   "metadata": {},
   "source": [
    "De donde se tiene que $D_3 \\in \\mathcal J$."
   ]
  },
  {
   "cell_type": "markdown",
   "id": "9d9b84b0",
   "metadata": {},
   "source": [
    "$\\bullet$ Supongamos que $a_{12}\\neq 0$. Entonces"
   ]
  },
  {
   "cell_type": "code",
   "execution_count": 38,
   "id": "6b1d8f29",
   "metadata": {},
   "outputs": [
    {
     "data": {
      "text/html": [
       "<html><script type=\"math/tex; mode=display\">\\newcommand{\\Bold}[1]{\\mathbf{#1}}\\left(0,\\,0,\\,0,\\,-\\frac{1}{3072} \\, a_{12},\\,0,\\,0,\\,0,\\,0,\\,0,\\,0,\\,0,\\,0,\\,0,\\,0\\right)</script></html>"
      ],
      "text/latex": [
       "$$\\newcommand{\\Bold}[1]{\\mathbf{#1}}\\left(0,\\,0,\\,0,\\,-\\frac{1}{3072} \\, a_{12},\\,0,\\,0,\\,0,\\,0,\\,0,\\,0,\\,0,\\,0,\\,0,\\,0\\right)$$"
      ],
      "text/plain": [
       "(0, 0, 0, -1/3072*a12, 0, 0, 0, 0, 0, 0, 0, 0, 0, 0)"
      ]
     },
     "execution_count": 38,
     "metadata": {},
     "output_type": "execute_result"
    }
   ],
   "source": [
    "X12 = bracket(bracket(bracket(bracket(bracket(bracket(X,d1),d0),d1),d4),d3),d13)\n",
    "vector(g2_esc_bon(X12)._sympy_().simplify()._sage_().list())"
   ]
  },
  {
   "cell_type": "markdown",
   "id": "8cd72709",
   "metadata": {},
   "source": [
    "De donde se tiene que $D_3 \\in \\mathcal J$."
   ]
  },
  {
   "cell_type": "markdown",
   "id": "015e1cd7",
   "metadata": {},
   "source": [
    "$\\bullet$ Finalmente supongamos que $a_{13}\\neq 0$. Entonces"
   ]
  },
  {
   "cell_type": "code",
   "execution_count": 41,
   "id": "c1269bb7",
   "metadata": {},
   "outputs": [
    {
     "data": {
      "text/html": [
       "<html><script type=\"math/tex; mode=display\">\\newcommand{\\Bold}[1]{\\mathbf{#1}}\\left(0,\\,0,\\,0,\\,\\frac{1}{12288} \\, a_{13},\\,0,\\,0,\\,0,\\,0,\\,0,\\,0,\\,0,\\,0,\\,0,\\,0\\right)</script></html>"
      ],
      "text/latex": [
       "$$\\newcommand{\\Bold}[1]{\\mathbf{#1}}\\left(0,\\,0,\\,0,\\,\\frac{1}{12288} \\, a_{13},\\,0,\\,0,\\,0,\\,0,\\,0,\\,0,\\,0,\\,0,\\,0,\\,0\\right)$$"
      ],
      "text/plain": [
       "(0, 0, 0, 1/12288*a13, 0, 0, 0, 0, 0, 0, 0, 0, 0, 0)"
      ]
     },
     "execution_count": 41,
     "metadata": {},
     "output_type": "execute_result"
    }
   ],
   "source": [
    "X13 = bracket(bracket(bracket(bracket(bracket(bracket(bracket(X,d3),d4),d0),d1),d0),d6),d13)\n",
    "vector(g2_esc_bon(X13)._sympy_().simplify()._sage_().list())"
   ]
  },
  {
   "cell_type": "markdown",
   "id": "b4068b1e",
   "metadata": {},
   "source": [
    "De donde se tiene que $D_3 \\in \\mathcal J$."
   ]
  }
 ],
 "metadata": {
  "kernelspec": {
   "display_name": "SageMath 9.5",
   "language": "sage",
   "name": "sagemath"
  },
  "language_info": {
   "codemirror_mode": {
    "name": "ipython",
    "version": 3
   },
   "file_extension": ".py",
   "mimetype": "text/x-python",
   "name": "python",
   "nbconvert_exporter": "python",
   "pygments_lexer": "ipython3",
   "version": "3.10.4"
  }
 },
 "nbformat": 4,
 "nbformat_minor": 5
}
