{
 "cells": [
  {
   "cell_type": "code",
   "execution_count": 1,
   "id": "332ffd66",
   "metadata": {},
   "outputs": [],
   "source": [
    "load(\"Productos c-d.py\")\n",
    "load(\"g2.py\")\n",
    "%display latex\n",
    "base_simbólica = [var('D'+str(i)) for i in range(14)]"
   ]
  },
  {
   "cell_type": "markdown",
   "id": "8aa2ef4f",
   "metadata": {},
   "source": [
    "## Lema 2.23"
   ]
  },
  {
   "cell_type": "markdown",
   "id": "5cd4f14e",
   "metadata": {},
   "source": [
    "Si $\\mathcal J$ es ideal de $\\mathfrak g_2$ y $D_i \\in \\mathcal J$ para algún $i\\in \\{0,\\dots,13\\}$, entonces $\\mathcal J = \\mathfrak g_2$."
   ]
  },
  {
   "cell_type": "markdown",
   "id": "b7ff5d28",
   "metadata": {},
   "source": [
    "### Demostración"
   ]
  },
  {
   "cell_type": "markdown",
   "id": "b4a72a11",
   "metadata": {},
   "source": [
    "*En esta demostración se usan:*\n",
    "\n",
    "*`g2_basis`: una lista con los elementos de la base $\\mathcal H$ de $\\mathfrak g_2$ ortonormal para la métrica bi-invariante*\n",
    "\n",
    "*`base_simbólica`: una lista de variables que representa la base $\\mathcal H$ con las letras $\\{D_0,D_1,\\dots,D_{13}\\}$*\n",
    "\n",
    "*`g2_esc_bon`: función que recibe un elemento en $\\mathfrak g_2$ y devuelve un vector con los escalares en la base $\\mathcal H$*\n",
    "\n",
    "*`bracket`: función que recibe dos matrices y devuelve el corchete de matrices*"
   ]
  },
  {
   "cell_type": "markdown",
   "id": "6972fcf2",
   "metadata": {},
   "source": [
    "$\\bullet$ Supongamos que $D_0 \\in \\mathfrak I$:"
   ]
  },
  {
   "cell_type": "code",
   "execution_count": 37,
   "id": "20e7ea7f",
   "metadata": {},
   "outputs": [
    {
     "data": {
      "text/html": [
       "<html><script type=\"math/tex; mode=display\">\\newcommand{\\Bold}[1]{\\mathbf{#1}}\\left[0, -\\frac{1}{2} \\, D_{2}, \\frac{1}{2} \\, D_{1}, 0, \\frac{1}{4} \\, D_{7}, -\\frac{1}{4} \\, D_{6}, \\frac{1}{4} \\, D_{5}, -\\frac{1}{4} \\, D_{4}, 0, \\frac{1}{4} \\, D_{12}, -\\frac{1}{4} \\, D_{11}, \\frac{1}{4} \\, D_{10}, -\\frac{1}{4} \\, D_{9}, 0\\right]</script></html>"
      ],
      "text/latex": [
       "$$\\newcommand{\\Bold}[1]{\\mathbf{#1}}\\left[0, -\\frac{1}{2} \\, D_{2}, \\frac{1}{2} \\, D_{1}, 0, \\frac{1}{4} \\, D_{7}, -\\frac{1}{4} \\, D_{6}, \\frac{1}{4} \\, D_{5}, -\\frac{1}{4} \\, D_{4}, 0, \\frac{1}{4} \\, D_{12}, -\\frac{1}{4} \\, D_{11}, \\frac{1}{4} \\, D_{10}, -\\frac{1}{4} \\, D_{9}, 0\\right]$$"
      ],
      "text/plain": [
       "[0,\n",
       " -1/2*D2,\n",
       " 1/2*D1,\n",
       " 0,\n",
       " 1/4*D7,\n",
       " -1/4*D6,\n",
       " 1/4*D5,\n",
       " -1/4*D4,\n",
       " 0,\n",
       " 1/4*D12,\n",
       " -1/4*D11,\n",
       " 1/4*D10,\n",
       " -1/4*D9,\n",
       " 0]"
      ]
     },
     "execution_count": 37,
     "metadata": {},
     "output_type": "execute_result"
    }
   ],
   "source": [
    "D0_bracket = [sum(g2_esc_bon(bracket(d0,v))[i]*base_simbólica[i] for i in range(14)) for v in g2_basis]\n",
    "D0_bracket"
   ]
  },
  {
   "cell_type": "markdown",
   "id": "09c7de1b",
   "metadata": {},
   "source": [
    "De donde tenemos que todos los elementos de la base pertenecen a $\\mathcal J$ salvo $D_3,D_8,D_{13}$."
   ]
  },
  {
   "cell_type": "code",
   "execution_count": 38,
   "id": "bf2706d2",
   "metadata": {},
   "outputs": [
    {
     "data": {
      "text/html": [
       "<html><script type=\"math/tex; mode=display\">\\newcommand{\\Bold}[1]{\\mathbf{#1}}\\left[-\\frac{1}{4} \\, D_{7}, -\\frac{1}{4} \\, D_{6}, \\frac{1}{4} \\, D_{5}, -\\frac{1}{4} \\, \\sqrt{3} D_{7}, 0, -\\frac{1}{4} \\, D_{2}, \\frac{1}{4} \\, D_{1}, \\frac{1}{4} \\, \\sqrt{3} D_{3} + \\frac{1}{4} \\, D_{0}, -\\frac{1}{4} \\, D_{12}, \\frac{1}{4} \\, D_{13}, 0, 0, \\frac{1}{4} \\, D_{8}, -\\frac{1}{4} \\, D_{9}\\right]</script></html>"
      ],
      "text/latex": [
       "$$\\newcommand{\\Bold}[1]{\\mathbf{#1}}\\left[-\\frac{1}{4} \\, D_{7}, -\\frac{1}{4} \\, D_{6}, \\frac{1}{4} \\, D_{5}, -\\frac{1}{4} \\, \\sqrt{3} D_{7}, 0, -\\frac{1}{4} \\, D_{2}, \\frac{1}{4} \\, D_{1}, \\frac{1}{4} \\, \\sqrt{3} D_{3} + \\frac{1}{4} \\, D_{0}, -\\frac{1}{4} \\, D_{12}, \\frac{1}{4} \\, D_{13}, 0, 0, \\frac{1}{4} \\, D_{8}, -\\frac{1}{4} \\, D_{9}\\right]$$"
      ],
      "text/plain": [
       "[-1/4*D7,\n",
       " -1/4*D6,\n",
       " 1/4*D5,\n",
       " -1/4*sqrt(3)*D7,\n",
       " 0,\n",
       " -1/4*D2,\n",
       " 1/4*D1,\n",
       " 1/4*sqrt(3)*D3 + 1/4*D0,\n",
       " -1/4*D12,\n",
       " 1/4*D13,\n",
       " 0,\n",
       " 0,\n",
       " 1/4*D8,\n",
       " -1/4*D9]"
      ]
     },
     "execution_count": 38,
     "metadata": {},
     "output_type": "execute_result"
    }
   ],
   "source": [
    "D4_bracket = [sum(g2_esc_bon(bracket(d4,v))[i]*base_simbólica[i] for i in range(14)) for v in g2_basis]\n",
    "D4_bracket"
   ]
  },
  {
   "cell_type": "markdown",
   "id": "f8dd091f",
   "metadata": {},
   "source": [
    "Como $D_4 \\in \\mathcal J$, $D_3,D_8,D_13 \\in \\mathcal J$ y tenemos que la base está contenida en $\\mathcal J$. Por lo tanto $$\\mathcal J = \\mathfrak g_2.$$\n",
    "\n",
    "$\\bullet$ Supongamos que $D_1 \\in \\mathcal J:$"
   ]
  },
  {
   "cell_type": "code",
   "execution_count": 51,
   "id": "c1e555d7",
   "metadata": {},
   "outputs": [
    {
     "data": {
      "text/html": [
       "<html><script type=\"math/tex; mode=display\">\\newcommand{\\Bold}[1]{\\mathbf{#1}}\\left[\\frac{1}{2} \\, D_{2}, 0, -\\frac{1}{2} \\, D_{0}, 0, \\frac{1}{4} \\, D_{6}, \\frac{1}{4} \\, D_{7}, -\\frac{1}{4} \\, D_{4}, -\\frac{1}{4} \\, D_{5}, 0, \\frac{1}{4} \\, D_{11}, \\frac{1}{4} \\, D_{12}, -\\frac{1}{4} \\, D_{9}, -\\frac{1}{4} \\, D_{10}, 0\\right]</script></html>"
      ],
      "text/latex": [
       "$$\\newcommand{\\Bold}[1]{\\mathbf{#1}}\\left[\\frac{1}{2} \\, D_{2}, 0, -\\frac{1}{2} \\, D_{0}, 0, \\frac{1}{4} \\, D_{6}, \\frac{1}{4} \\, D_{7}, -\\frac{1}{4} \\, D_{4}, -\\frac{1}{4} \\, D_{5}, 0, \\frac{1}{4} \\, D_{11}, \\frac{1}{4} \\, D_{12}, -\\frac{1}{4} \\, D_{9}, -\\frac{1}{4} \\, D_{10}, 0\\right]$$"
      ],
      "text/plain": [
       "[1/2*D2,\n",
       " 0,\n",
       " -1/2*D0,\n",
       " 0,\n",
       " 1/4*D6,\n",
       " 1/4*D7,\n",
       " -1/4*D4,\n",
       " -1/4*D5,\n",
       " 0,\n",
       " 1/4*D11,\n",
       " 1/4*D12,\n",
       " -1/4*D9,\n",
       " -1/4*D10,\n",
       " 0]"
      ]
     },
     "execution_count": 51,
     "metadata": {},
     "output_type": "execute_result"
    }
   ],
   "source": [
    "D1_bracket = [sum(g2_esc_bon(bracket(d1,v))[i]*base_simbólica[i] for i in range(14)) for v in g2_basis]\n",
    "D1_bracket"
   ]
  },
  {
   "cell_type": "markdown",
   "id": "4c25878c",
   "metadata": {},
   "source": [
    "Entonces $D_0 \\in \\mathcal J$ y por lo visto antes, $\\mathcal J = \\mathfrak g_2.$"
   ]
  },
  {
   "cell_type": "markdown",
   "id": "c4c48d8c",
   "metadata": {},
   "source": [
    "$\\bullet$ Supongamos que $D_2 \\in \\mathcal J:$"
   ]
  },
  {
   "cell_type": "code",
   "execution_count": 39,
   "id": "f6d03b6d",
   "metadata": {},
   "outputs": [
    {
     "data": {
      "text/html": [
       "<html><script type=\"math/tex; mode=display\">\\newcommand{\\Bold}[1]{\\mathbf{#1}}\\left[-\\frac{1}{2} \\, D_{1}, \\frac{1}{2} \\, D_{0}, 0, 0, -\\frac{1}{4} \\, D_{5}, \\frac{1}{4} \\, D_{4}, \\frac{1}{4} \\, D_{7}, -\\frac{1}{4} \\, D_{6}, 0, -\\frac{1}{4} \\, D_{10}, \\frac{1}{4} \\, D_{9}, \\frac{1}{4} \\, D_{12}, -\\frac{1}{4} \\, D_{11}, 0\\right]</script></html>"
      ],
      "text/latex": [
       "$$\\newcommand{\\Bold}[1]{\\mathbf{#1}}\\left[-\\frac{1}{2} \\, D_{1}, \\frac{1}{2} \\, D_{0}, 0, 0, -\\frac{1}{4} \\, D_{5}, \\frac{1}{4} \\, D_{4}, \\frac{1}{4} \\, D_{7}, -\\frac{1}{4} \\, D_{6}, 0, -\\frac{1}{4} \\, D_{10}, \\frac{1}{4} \\, D_{9}, \\frac{1}{4} \\, D_{12}, -\\frac{1}{4} \\, D_{11}, 0\\right]$$"
      ],
      "text/plain": [
       "[-1/2*D1,\n",
       " 1/2*D0,\n",
       " 0,\n",
       " 0,\n",
       " -1/4*D5,\n",
       " 1/4*D4,\n",
       " 1/4*D7,\n",
       " -1/4*D6,\n",
       " 0,\n",
       " -1/4*D10,\n",
       " 1/4*D9,\n",
       " 1/4*D12,\n",
       " -1/4*D11,\n",
       " 0]"
      ]
     },
     "execution_count": 39,
     "metadata": {},
     "output_type": "execute_result"
    }
   ],
   "source": [
    "D2_bracket = [sum(g2_esc_bon(bracket(d2,v))[i]*base_simbólica[i] for i in range(14)) for v in g2_basis]\n",
    "D2_bracket"
   ]
  },
  {
   "cell_type": "markdown",
   "id": "68a2ee70",
   "metadata": {},
   "source": [
    "Entonces $D_1 \\in \\mathcal J$ y por lo visto antes, $\\mathcal J = \\mathfrak g_2.$"
   ]
  },
  {
   "cell_type": "markdown",
   "id": "c4267eb7",
   "metadata": {},
   "source": [
    "$\\bullet$ Supongamos que $D_3 \\in \\mathcal J:$"
   ]
  },
  {
   "cell_type": "code",
   "execution_count": 40,
   "id": "4023102d",
   "metadata": {},
   "outputs": [
    {
     "data": {
      "text/html": [
       "<html><script type=\"math/tex; mode=display\">\\newcommand{\\Bold}[1]{\\mathbf{#1}}\\left[0, 0, 0, 0, \\frac{1}{4} \\, \\sqrt{3} D_{7}, \\frac{1}{4} \\, \\sqrt{3} D_{6}, -\\frac{1}{4} \\, \\sqrt{3} D_{5}, -\\frac{1}{4} \\, \\sqrt{3} D_{4}, \\frac{1}{6} \\, \\sqrt{3} D_{13}, \\frac{1}{12} \\, \\sqrt{3} D_{12}, \\frac{1}{12} \\, \\sqrt{3} D_{11}, -\\frac{1}{12} \\, \\sqrt{3} D_{10}, -\\frac{1}{12} \\, \\sqrt{3} D_{9}, -\\frac{1}{6} \\, \\sqrt{3} D_{8}\\right]</script></html>"
      ],
      "text/latex": [
       "$$\\newcommand{\\Bold}[1]{\\mathbf{#1}}\\left[0, 0, 0, 0, \\frac{1}{4} \\, \\sqrt{3} D_{7}, \\frac{1}{4} \\, \\sqrt{3} D_{6}, -\\frac{1}{4} \\, \\sqrt{3} D_{5}, -\\frac{1}{4} \\, \\sqrt{3} D_{4}, \\frac{1}{6} \\, \\sqrt{3} D_{13}, \\frac{1}{12} \\, \\sqrt{3} D_{12}, \\frac{1}{12} \\, \\sqrt{3} D_{11}, -\\frac{1}{12} \\, \\sqrt{3} D_{10}, -\\frac{1}{12} \\, \\sqrt{3} D_{9}, -\\frac{1}{6} \\, \\sqrt{3} D_{8}\\right]$$"
      ],
      "text/plain": [
       "[0,\n",
       " 0,\n",
       " 0,\n",
       " 0,\n",
       " 1/4*sqrt(3)*D7,\n",
       " 1/4*sqrt(3)*D6,\n",
       " -1/4*sqrt(3)*D5,\n",
       " -1/4*sqrt(3)*D4,\n",
       " 1/6*sqrt(3)*D13,\n",
       " 1/12*sqrt(3)*D12,\n",
       " 1/12*sqrt(3)*D11,\n",
       " -1/12*sqrt(3)*D10,\n",
       " -1/12*sqrt(3)*D9,\n",
       " -1/6*sqrt(3)*D8]"
      ]
     },
     "execution_count": 40,
     "metadata": {},
     "output_type": "execute_result"
    }
   ],
   "source": [
    "D3_bracket = [sum(g2_esc_bon(bracket(d3,v))[i]*base_simbólica[i] for i in range(14)) for v in g2_basis]\n",
    "D3_bracket"
   ]
  },
  {
   "cell_type": "markdown",
   "id": "e97bad3a",
   "metadata": {},
   "source": [
    "De donde tenemos que $D_4 \\in \\mathcal J$."
   ]
  },
  {
   "cell_type": "code",
   "execution_count": 41,
   "id": "486c8e83",
   "metadata": {},
   "outputs": [
    {
     "data": {
      "text/html": [
       "<html><script type=\"math/tex; mode=display\">\\newcommand{\\Bold}[1]{\\mathbf{#1}}\\left[-\\frac{1}{4} \\, D_{7}, -\\frac{1}{4} \\, D_{6}, \\frac{1}{4} \\, D_{5}, -\\frac{1}{4} \\, \\sqrt{3} D_{7}, 0, -\\frac{1}{4} \\, D_{2}, \\frac{1}{4} \\, D_{1}, \\frac{1}{4} \\, \\sqrt{3} D_{3} + \\frac{1}{4} \\, D_{0}, -\\frac{1}{4} \\, D_{12}, \\frac{1}{4} \\, D_{13}, 0, 0, \\frac{1}{4} \\, D_{8}, -\\frac{1}{4} \\, D_{9}\\right]</script></html>"
      ],
      "text/latex": [
       "$$\\newcommand{\\Bold}[1]{\\mathbf{#1}}\\left[-\\frac{1}{4} \\, D_{7}, -\\frac{1}{4} \\, D_{6}, \\frac{1}{4} \\, D_{5}, -\\frac{1}{4} \\, \\sqrt{3} D_{7}, 0, -\\frac{1}{4} \\, D_{2}, \\frac{1}{4} \\, D_{1}, \\frac{1}{4} \\, \\sqrt{3} D_{3} + \\frac{1}{4} \\, D_{0}, -\\frac{1}{4} \\, D_{12}, \\frac{1}{4} \\, D_{13}, 0, 0, \\frac{1}{4} \\, D_{8}, -\\frac{1}{4} \\, D_{9}\\right]$$"
      ],
      "text/plain": [
       "[-1/4*D7,\n",
       " -1/4*D6,\n",
       " 1/4*D5,\n",
       " -1/4*sqrt(3)*D7,\n",
       " 0,\n",
       " -1/4*D2,\n",
       " 1/4*D1,\n",
       " 1/4*sqrt(3)*D3 + 1/4*D0,\n",
       " -1/4*D12,\n",
       " 1/4*D13,\n",
       " 0,\n",
       " 0,\n",
       " 1/4*D8,\n",
       " -1/4*D9]"
      ]
     },
     "execution_count": 41,
     "metadata": {},
     "output_type": "execute_result"
    }
   ],
   "source": [
    "D4_bracket = [sum(g2_esc_bon(bracket(d4,v))[i]*base_simbólica[i] for i in range(14)) for v in g2_basis]\n",
    "D4_bracket"
   ]
  },
  {
   "cell_type": "markdown",
   "id": "6757d4fc",
   "metadata": {},
   "source": [
    "Entonces $D_0 \\in \\mathcal J$ y por lo tanto $\\mathcal J = \\mathfrak g_2.$\n",
    "\n",
    "$\\bullet$ Si $D_4 \\in \\mathcal J$ ya vimos que $D_0\\in \\mathcal J$ y por lo tanto $\\mathcal J = \\mathfrak g_2.$\n",
    "\n",
    "$\\bullet$ Supongamos que $D_5 \\in \\mathcal J:$"
   ]
  },
  {
   "cell_type": "code",
   "execution_count": 42,
   "id": "858a2b48",
   "metadata": {},
   "outputs": [
    {
     "data": {
      "text/html": [
       "<html><script type=\"math/tex; mode=display\">\\newcommand{\\Bold}[1]{\\mathbf{#1}}\\left[\\frac{1}{4} \\, D_{6}, -\\frac{1}{4} \\, D_{7}, -\\frac{1}{4} \\, D_{4}, -\\frac{1}{4} \\, \\sqrt{3} D_{6}, \\frac{1}{4} \\, D_{2}, 0, \\frac{1}{4} \\, \\sqrt{3} D_{3} - \\frac{1}{4} \\, D_{0}, \\frac{1}{4} \\, D_{1}, -\\frac{1}{4} \\, D_{11}, 0, \\frac{1}{4} \\, D_{13}, \\frac{1}{4} \\, D_{8}, 0, -\\frac{1}{4} \\, D_{10}\\right]</script></html>"
      ],
      "text/latex": [
       "$$\\newcommand{\\Bold}[1]{\\mathbf{#1}}\\left[\\frac{1}{4} \\, D_{6}, -\\frac{1}{4} \\, D_{7}, -\\frac{1}{4} \\, D_{4}, -\\frac{1}{4} \\, \\sqrt{3} D_{6}, \\frac{1}{4} \\, D_{2}, 0, \\frac{1}{4} \\, \\sqrt{3} D_{3} - \\frac{1}{4} \\, D_{0}, \\frac{1}{4} \\, D_{1}, -\\frac{1}{4} \\, D_{11}, 0, \\frac{1}{4} \\, D_{13}, \\frac{1}{4} \\, D_{8}, 0, -\\frac{1}{4} \\, D_{10}\\right]$$"
      ],
      "text/plain": [
       "[1/4*D6,\n",
       " -1/4*D7,\n",
       " -1/4*D4,\n",
       " -1/4*sqrt(3)*D6,\n",
       " 1/4*D2,\n",
       " 0,\n",
       " 1/4*sqrt(3)*D3 - 1/4*D0,\n",
       " 1/4*D1,\n",
       " -1/4*D11,\n",
       " 0,\n",
       " 1/4*D13,\n",
       " 1/4*D8,\n",
       " 0,\n",
       " -1/4*D10]"
      ]
     },
     "execution_count": 42,
     "metadata": {},
     "output_type": "execute_result"
    }
   ],
   "source": [
    "D5_bracket = [sum(g2_esc_bon(bracket(d5,v))[i]*base_simbólica[i] for i in range(14)) for v in g2_basis]\n",
    "D5_bracket"
   ]
  },
  {
   "cell_type": "markdown",
   "id": "ae4875dd",
   "metadata": {},
   "source": [
    "Entonces $D_0 \\in \\mathcal J$ y por lo tanto $\\mathcal J = \\mathfrak g_2.$\n",
    "\n",
    "$\\bullet$ Supongamos que $D_6 \\in \\mathcal J:$"
   ]
  },
  {
   "cell_type": "code",
   "execution_count": 43,
   "id": "34b0e718",
   "metadata": {},
   "outputs": [
    {
     "data": {
      "text/html": [
       "<html><script type=\"math/tex; mode=display\">\\newcommand{\\Bold}[1]{\\mathbf{#1}}\\left[-\\frac{1}{4} \\, D_{5}, \\frac{1}{4} \\, D_{4}, -\\frac{1}{4} \\, D_{7}, \\frac{1}{4} \\, \\sqrt{3} D_{5}, -\\frac{1}{4} \\, D_{1}, -\\frac{1}{4} \\, \\sqrt{3} D_{3} + \\frac{1}{4} \\, D_{0}, 0, \\frac{1}{4} \\, D_{2}, \\frac{1}{4} \\, D_{10}, 0, -\\frac{1}{4} \\, D_{8}, \\frac{1}{4} \\, D_{13}, 0, -\\frac{1}{4} \\, D_{11}\\right]</script></html>"
      ],
      "text/latex": [
       "$$\\newcommand{\\Bold}[1]{\\mathbf{#1}}\\left[-\\frac{1}{4} \\, D_{5}, \\frac{1}{4} \\, D_{4}, -\\frac{1}{4} \\, D_{7}, \\frac{1}{4} \\, \\sqrt{3} D_{5}, -\\frac{1}{4} \\, D_{1}, -\\frac{1}{4} \\, \\sqrt{3} D_{3} + \\frac{1}{4} \\, D_{0}, 0, \\frac{1}{4} \\, D_{2}, \\frac{1}{4} \\, D_{10}, 0, -\\frac{1}{4} \\, D_{8}, \\frac{1}{4} \\, D_{13}, 0, -\\frac{1}{4} \\, D_{11}\\right]$$"
      ],
      "text/plain": [
       "[-1/4*D5,\n",
       " 1/4*D4,\n",
       " -1/4*D7,\n",
       " 1/4*sqrt(3)*D5,\n",
       " -1/4*D1,\n",
       " -1/4*sqrt(3)*D3 + 1/4*D0,\n",
       " 0,\n",
       " 1/4*D2,\n",
       " 1/4*D10,\n",
       " 0,\n",
       " -1/4*D8,\n",
       " 1/4*D13,\n",
       " 0,\n",
       " -1/4*D11]"
      ]
     },
     "execution_count": 43,
     "metadata": {},
     "output_type": "execute_result"
    }
   ],
   "source": [
    "D6_bracket = [sum(g2_esc_bon(bracket(d6,v))[i]*base_simbólica[i] for i in range(14)) for v in g2_basis]\n",
    "D6_bracket"
   ]
  },
  {
   "cell_type": "markdown",
   "id": "0c808ee6",
   "metadata": {},
   "source": [
    "Entonces $D_5 \\in \\mathcal J$ y por lo tanto $\\mathcal J = \\mathfrak g_2.$\n",
    "\n",
    "$\\bullet$ Supongamos que $D_7 \\in \\mathcal J:$"
   ]
  },
  {
   "cell_type": "code",
   "execution_count": 44,
   "id": "f0a7bf9f",
   "metadata": {},
   "outputs": [
    {
     "data": {
      "text/html": [
       "<html><script type=\"math/tex; mode=display\">\\newcommand{\\Bold}[1]{\\mathbf{#1}}\\left[\\frac{1}{4} \\, D_{4}, \\frac{1}{4} \\, D_{5}, \\frac{1}{4} \\, D_{6}, \\frac{1}{4} \\, \\sqrt{3} D_{4}, -\\frac{1}{4} \\, \\sqrt{3} D_{3} - \\frac{1}{4} \\, D_{0}, -\\frac{1}{4} \\, D_{1}, -\\frac{1}{4} \\, D_{2}, 0, \\frac{1}{4} \\, D_{9}, -\\frac{1}{4} \\, D_{8}, 0, 0, \\frac{1}{4} \\, D_{13}, -\\frac{1}{4} \\, D_{12}\\right]</script></html>"
      ],
      "text/latex": [
       "$$\\newcommand{\\Bold}[1]{\\mathbf{#1}}\\left[\\frac{1}{4} \\, D_{4}, \\frac{1}{4} \\, D_{5}, \\frac{1}{4} \\, D_{6}, \\frac{1}{4} \\, \\sqrt{3} D_{4}, -\\frac{1}{4} \\, \\sqrt{3} D_{3} - \\frac{1}{4} \\, D_{0}, -\\frac{1}{4} \\, D_{1}, -\\frac{1}{4} \\, D_{2}, 0, \\frac{1}{4} \\, D_{9}, -\\frac{1}{4} \\, D_{8}, 0, 0, \\frac{1}{4} \\, D_{13}, -\\frac{1}{4} \\, D_{12}\\right]$$"
      ],
      "text/plain": [
       "[1/4*D4,\n",
       " 1/4*D5,\n",
       " 1/4*D6,\n",
       " 1/4*sqrt(3)*D4,\n",
       " -1/4*sqrt(3)*D3 - 1/4*D0,\n",
       " -1/4*D1,\n",
       " -1/4*D2,\n",
       " 0,\n",
       " 1/4*D9,\n",
       " -1/4*D8,\n",
       " 0,\n",
       " 0,\n",
       " 1/4*D13,\n",
       " -1/4*D12]"
      ]
     },
     "execution_count": 44,
     "metadata": {},
     "output_type": "execute_result"
    }
   ],
   "source": [
    "D7_bracket = [sum(g2_esc_bon(bracket(d7,v))[i]*base_simbólica[i] for i in range(14)) for v in g2_basis]\n",
    "D7_bracket"
   ]
  },
  {
   "cell_type": "markdown",
   "id": "843a3130",
   "metadata": {},
   "source": [
    "Entonces $D_4 \\in \\mathcal J$ y por lo tanto $\\mathcal J = \\mathfrak g_2.$\n",
    "\n",
    "$\\bullet$ Supongamos que $D_8 \\in \\mathcal J:$"
   ]
  },
  {
   "cell_type": "code",
   "execution_count": 45,
   "id": "46279223",
   "metadata": {},
   "outputs": [
    {
     "data": {
      "text/html": [
       "<html><script type=\"math/tex; mode=display\">\\newcommand{\\Bold}[1]{\\mathbf{#1}}\\left[0, 0, 0, -\\frac{1}{6} \\, \\sqrt{3} D_{13}, \\frac{1}{4} \\, D_{12}, \\frac{1}{4} \\, D_{11}, -\\frac{1}{4} \\, D_{10}, -\\frac{1}{4} \\, D_{9}, 0, -\\frac{1}{6} \\, \\sqrt{3} D_{11} + \\frac{1}{4} \\, D_{7}, \\frac{1}{6} \\, \\sqrt{3} D_{12} + \\frac{1}{4} \\, D_{6}, \\frac{1}{6} \\, \\sqrt{3} D_{9} - \\frac{1}{4} \\, D_{5}, -\\frac{1}{6} \\, \\sqrt{3} D_{10} - \\frac{1}{4} \\, D_{4}, \\frac{1}{6} \\, \\sqrt{3} D_{3}\\right]</script></html>"
      ],
      "text/latex": [
       "$$\\newcommand{\\Bold}[1]{\\mathbf{#1}}\\left[0, 0, 0, -\\frac{1}{6} \\, \\sqrt{3} D_{13}, \\frac{1}{4} \\, D_{12}, \\frac{1}{4} \\, D_{11}, -\\frac{1}{4} \\, D_{10}, -\\frac{1}{4} \\, D_{9}, 0, -\\frac{1}{6} \\, \\sqrt{3} D_{11} + \\frac{1}{4} \\, D_{7}, \\frac{1}{6} \\, \\sqrt{3} D_{12} + \\frac{1}{4} \\, D_{6}, \\frac{1}{6} \\, \\sqrt{3} D_{9} - \\frac{1}{4} \\, D_{5}, -\\frac{1}{6} \\, \\sqrt{3} D_{10} - \\frac{1}{4} \\, D_{4}, \\frac{1}{6} \\, \\sqrt{3} D_{3}\\right]$$"
      ],
      "text/plain": [
       "[0,\n",
       " 0,\n",
       " 0,\n",
       " -1/6*sqrt(3)*D13,\n",
       " 1/4*D12,\n",
       " 1/4*D11,\n",
       " -1/4*D10,\n",
       " -1/4*D9,\n",
       " 0,\n",
       " -1/6*sqrt(3)*D11 + 1/4*D7,\n",
       " 1/6*sqrt(3)*D12 + 1/4*D6,\n",
       " 1/6*sqrt(3)*D9 - 1/4*D5,\n",
       " -1/6*sqrt(3)*D10 - 1/4*D4,\n",
       " 1/6*sqrt(3)*D3]"
      ]
     },
     "execution_count": 45,
     "metadata": {},
     "output_type": "execute_result"
    }
   ],
   "source": [
    "D8_bracket = [sum(g2_esc_bon(bracket(d8,v))[i]*base_simbólica[i] for i in range(14)) for v in g2_basis]\n",
    "D8_bracket"
   ]
  },
  {
   "cell_type": "markdown",
   "id": "65eb885a",
   "metadata": {},
   "source": [
    "Entonces $D_3 \\in \\mathcal J$ y por lo tanto $\\mathcal J = \\mathfrak g_2.$\n",
    "\n",
    "$\\bullet$ Supongamos que $D_9 \\in \\mathcal J:$"
   ]
  },
  {
   "cell_type": "code",
   "execution_count": 46,
   "id": "d67753ab",
   "metadata": {},
   "outputs": [
    {
     "data": {
      "text/html": [
       "<html><script type=\"math/tex; mode=display\">\\newcommand{\\Bold}[1]{\\mathbf{#1}}\\left[-\\frac{1}{4} \\, D_{12}, -\\frac{1}{4} \\, D_{11}, \\frac{1}{4} \\, D_{10}, -\\frac{1}{12} \\, \\sqrt{3} D_{12}, -\\frac{1}{4} \\, D_{13}, 0, 0, \\frac{1}{4} \\, D_{8}, \\frac{1}{6} \\, \\sqrt{3} D_{11} - \\frac{1}{4} \\, D_{7}, 0, \\frac{1}{6} \\, \\sqrt{3} D_{13} - \\frac{1}{4} \\, D_{2}, -\\frac{1}{6} \\, \\sqrt{3} D_{8} + \\frac{1}{4} \\, D_{1}, \\frac{1}{12} \\, \\sqrt{3} D_{3} + \\frac{1}{4} \\, D_{0}, -\\frac{1}{6} \\, \\sqrt{3} D_{10} + \\frac{1}{4} \\, D_{4}\\right]</script></html>"
      ],
      "text/latex": [
       "$$\\newcommand{\\Bold}[1]{\\mathbf{#1}}\\left[-\\frac{1}{4} \\, D_{12}, -\\frac{1}{4} \\, D_{11}, \\frac{1}{4} \\, D_{10}, -\\frac{1}{12} \\, \\sqrt{3} D_{12}, -\\frac{1}{4} \\, D_{13}, 0, 0, \\frac{1}{4} \\, D_{8}, \\frac{1}{6} \\, \\sqrt{3} D_{11} - \\frac{1}{4} \\, D_{7}, 0, \\frac{1}{6} \\, \\sqrt{3} D_{13} - \\frac{1}{4} \\, D_{2}, -\\frac{1}{6} \\, \\sqrt{3} D_{8} + \\frac{1}{4} \\, D_{1}, \\frac{1}{12} \\, \\sqrt{3} D_{3} + \\frac{1}{4} \\, D_{0}, -\\frac{1}{6} \\, \\sqrt{3} D_{10} + \\frac{1}{4} \\, D_{4}\\right]$$"
      ],
      "text/plain": [
       "[-1/4*D12,\n",
       " -1/4*D11,\n",
       " 1/4*D10,\n",
       " -1/12*sqrt(3)*D12,\n",
       " -1/4*D13,\n",
       " 0,\n",
       " 0,\n",
       " 1/4*D8,\n",
       " 1/6*sqrt(3)*D11 - 1/4*D7,\n",
       " 0,\n",
       " 1/6*sqrt(3)*D13 - 1/4*D2,\n",
       " -1/6*sqrt(3)*D8 + 1/4*D1,\n",
       " 1/12*sqrt(3)*D3 + 1/4*D0,\n",
       " -1/6*sqrt(3)*D10 + 1/4*D4]"
      ]
     },
     "execution_count": 46,
     "metadata": {},
     "output_type": "execute_result"
    }
   ],
   "source": [
    "D9_bracket = [sum(g2_esc_bon(bracket(d9,v))[i]*base_simbólica[i] for i in range(14)) for v in g2_basis]\n",
    "D9_bracket"
   ]
  },
  {
   "cell_type": "markdown",
   "id": "65b51ea6",
   "metadata": {},
   "source": [
    "Entonces $D_8 \\in \\mathcal J$ y por lo tanto $\\mathcal J = \\mathfrak g_2.$\n",
    "\n",
    "$\\bullet$ Supongamos que $D_{10} \\in \\mathcal J:$"
   ]
  },
  {
   "cell_type": "code",
   "execution_count": 47,
   "id": "31b5a698",
   "metadata": {},
   "outputs": [
    {
     "data": {
      "text/html": [
       "<html><script type=\"math/tex; mode=display\">\\newcommand{\\Bold}[1]{\\mathbf{#1}}\\left[\\frac{1}{4} \\, D_{11}, -\\frac{1}{4} \\, D_{12}, -\\frac{1}{4} \\, D_{9}, -\\frac{1}{12} \\, \\sqrt{3} D_{11}, 0, -\\frac{1}{4} \\, D_{13}, \\frac{1}{4} \\, D_{8}, 0, -\\frac{1}{6} \\, \\sqrt{3} D_{12} - \\frac{1}{4} \\, D_{6}, -\\frac{1}{6} \\, \\sqrt{3} D_{13} + \\frac{1}{4} \\, D_{2}, 0, \\frac{1}{12} \\, \\sqrt{3} D_{3} - \\frac{1}{4} \\, D_{0}, \\frac{1}{6} \\, \\sqrt{3} D_{8} + \\frac{1}{4} \\, D_{1}, \\frac{1}{6} \\, \\sqrt{3} D_{9} + \\frac{1}{4} \\, D_{5}\\right]</script></html>"
      ],
      "text/latex": [
       "$$\\newcommand{\\Bold}[1]{\\mathbf{#1}}\\left[\\frac{1}{4} \\, D_{11}, -\\frac{1}{4} \\, D_{12}, -\\frac{1}{4} \\, D_{9}, -\\frac{1}{12} \\, \\sqrt{3} D_{11}, 0, -\\frac{1}{4} \\, D_{13}, \\frac{1}{4} \\, D_{8}, 0, -\\frac{1}{6} \\, \\sqrt{3} D_{12} - \\frac{1}{4} \\, D_{6}, -\\frac{1}{6} \\, \\sqrt{3} D_{13} + \\frac{1}{4} \\, D_{2}, 0, \\frac{1}{12} \\, \\sqrt{3} D_{3} - \\frac{1}{4} \\, D_{0}, \\frac{1}{6} \\, \\sqrt{3} D_{8} + \\frac{1}{4} \\, D_{1}, \\frac{1}{6} \\, \\sqrt{3} D_{9} + \\frac{1}{4} \\, D_{5}\\right]$$"
      ],
      "text/plain": [
       "[1/4*D11,\n",
       " -1/4*D12,\n",
       " -1/4*D9,\n",
       " -1/12*sqrt(3)*D11,\n",
       " 0,\n",
       " -1/4*D13,\n",
       " 1/4*D8,\n",
       " 0,\n",
       " -1/6*sqrt(3)*D12 - 1/4*D6,\n",
       " -1/6*sqrt(3)*D13 + 1/4*D2,\n",
       " 0,\n",
       " 1/12*sqrt(3)*D3 - 1/4*D0,\n",
       " 1/6*sqrt(3)*D8 + 1/4*D1,\n",
       " 1/6*sqrt(3)*D9 + 1/4*D5]"
      ]
     },
     "execution_count": 47,
     "metadata": {},
     "output_type": "execute_result"
    }
   ],
   "source": [
    "D10_bracket = [sum(g2_esc_bon(bracket(d10,v))[i]*base_simbólica[i] for i in range(14)) for v in g2_basis]\n",
    "D10_bracket"
   ]
  },
  {
   "cell_type": "markdown",
   "id": "66c1386a",
   "metadata": {},
   "source": [
    "Entonces $D_9 \\in \\mathcal J$ y por lo tanto $\\mathcal J = \\mathfrak g_2.$\n",
    "\n",
    "$\\bullet$ Supongamos que $D_{11} \\in \\mathcal J:$"
   ]
  },
  {
   "cell_type": "code",
   "execution_count": 48,
   "id": "ff755cde",
   "metadata": {},
   "outputs": [
    {
     "data": {
      "text/html": [
       "<html><script type=\"math/tex; mode=display\">\\newcommand{\\Bold}[1]{\\mathbf{#1}}\\left[-\\frac{1}{4} \\, D_{10}, \\frac{1}{4} \\, D_{9}, -\\frac{1}{4} \\, D_{12}, \\frac{1}{12} \\, \\sqrt{3} D_{10}, 0, -\\frac{1}{4} \\, D_{8}, -\\frac{1}{4} \\, D_{13}, 0, -\\frac{1}{6} \\, \\sqrt{3} D_{9} + \\frac{1}{4} \\, D_{5}, \\frac{1}{6} \\, \\sqrt{3} D_{8} - \\frac{1}{4} \\, D_{1}, -\\frac{1}{12} \\, \\sqrt{3} D_{3} + \\frac{1}{4} \\, D_{0}, 0, \\frac{1}{6} \\, \\sqrt{3} D_{13} + \\frac{1}{4} \\, D_{2}, -\\frac{1}{6} \\, \\sqrt{3} D_{12} + \\frac{1}{4} \\, D_{6}\\right]</script></html>"
      ],
      "text/latex": [
       "$$\\newcommand{\\Bold}[1]{\\mathbf{#1}}\\left[-\\frac{1}{4} \\, D_{10}, \\frac{1}{4} \\, D_{9}, -\\frac{1}{4} \\, D_{12}, \\frac{1}{12} \\, \\sqrt{3} D_{10}, 0, -\\frac{1}{4} \\, D_{8}, -\\frac{1}{4} \\, D_{13}, 0, -\\frac{1}{6} \\, \\sqrt{3} D_{9} + \\frac{1}{4} \\, D_{5}, \\frac{1}{6} \\, \\sqrt{3} D_{8} - \\frac{1}{4} \\, D_{1}, -\\frac{1}{12} \\, \\sqrt{3} D_{3} + \\frac{1}{4} \\, D_{0}, 0, \\frac{1}{6} \\, \\sqrt{3} D_{13} + \\frac{1}{4} \\, D_{2}, -\\frac{1}{6} \\, \\sqrt{3} D_{12} + \\frac{1}{4} \\, D_{6}\\right]$$"
      ],
      "text/plain": [
       "[-1/4*D10,\n",
       " 1/4*D9,\n",
       " -1/4*D12,\n",
       " 1/12*sqrt(3)*D10,\n",
       " 0,\n",
       " -1/4*D8,\n",
       " -1/4*D13,\n",
       " 0,\n",
       " -1/6*sqrt(3)*D9 + 1/4*D5,\n",
       " 1/6*sqrt(3)*D8 - 1/4*D1,\n",
       " -1/12*sqrt(3)*D3 + 1/4*D0,\n",
       " 0,\n",
       " 1/6*sqrt(3)*D13 + 1/4*D2,\n",
       " -1/6*sqrt(3)*D12 + 1/4*D6]"
      ]
     },
     "execution_count": 48,
     "metadata": {},
     "output_type": "execute_result"
    }
   ],
   "source": [
    "D11_bracket = [sum(g2_esc_bon(bracket(d11,v))[i]*base_simbólica[i] for i in range(14)) for v in g2_basis]\n",
    "D11_bracket"
   ]
  },
  {
   "cell_type": "markdown",
   "id": "57e8a310",
   "metadata": {},
   "source": [
    "Entonces $D_{10} \\in \\mathcal J$ y por lo tanto $\\mathcal J = \\mathfrak g_2.$\n",
    "\n",
    "$\\bullet$ Supongamos que $D_{12} \\in \\mathcal J:$"
   ]
  },
  {
   "cell_type": "code",
   "execution_count": 49,
   "id": "0de0abb7",
   "metadata": {},
   "outputs": [
    {
     "data": {
      "text/html": [
       "<html><script type=\"math/tex; mode=display\">\\newcommand{\\Bold}[1]{\\mathbf{#1}}\\left[\\frac{1}{4} \\, D_{9}, \\frac{1}{4} \\, D_{10}, \\frac{1}{4} \\, D_{11}, \\frac{1}{12} \\, \\sqrt{3} D_{9}, -\\frac{1}{4} \\, D_{8}, 0, 0, -\\frac{1}{4} \\, D_{13}, \\frac{1}{6} \\, \\sqrt{3} D_{10} + \\frac{1}{4} \\, D_{4}, -\\frac{1}{12} \\, \\sqrt{3} D_{3} - \\frac{1}{4} \\, D_{0}, -\\frac{1}{6} \\, \\sqrt{3} D_{8} - \\frac{1}{4} \\, D_{1}, -\\frac{1}{6} \\, \\sqrt{3} D_{13} - \\frac{1}{4} \\, D_{2}, 0, \\frac{1}{6} \\, \\sqrt{3} D_{11} + \\frac{1}{4} \\, D_{7}\\right]</script></html>"
      ],
      "text/latex": [
       "$$\\newcommand{\\Bold}[1]{\\mathbf{#1}}\\left[\\frac{1}{4} \\, D_{9}, \\frac{1}{4} \\, D_{10}, \\frac{1}{4} \\, D_{11}, \\frac{1}{12} \\, \\sqrt{3} D_{9}, -\\frac{1}{4} \\, D_{8}, 0, 0, -\\frac{1}{4} \\, D_{13}, \\frac{1}{6} \\, \\sqrt{3} D_{10} + \\frac{1}{4} \\, D_{4}, -\\frac{1}{12} \\, \\sqrt{3} D_{3} - \\frac{1}{4} \\, D_{0}, -\\frac{1}{6} \\, \\sqrt{3} D_{8} - \\frac{1}{4} \\, D_{1}, -\\frac{1}{6} \\, \\sqrt{3} D_{13} - \\frac{1}{4} \\, D_{2}, 0, \\frac{1}{6} \\, \\sqrt{3} D_{11} + \\frac{1}{4} \\, D_{7}\\right]$$"
      ],
      "text/plain": [
       "[1/4*D9,\n",
       " 1/4*D10,\n",
       " 1/4*D11,\n",
       " 1/12*sqrt(3)*D9,\n",
       " -1/4*D8,\n",
       " 0,\n",
       " 0,\n",
       " -1/4*D13,\n",
       " 1/6*sqrt(3)*D10 + 1/4*D4,\n",
       " -1/12*sqrt(3)*D3 - 1/4*D0,\n",
       " -1/6*sqrt(3)*D8 - 1/4*D1,\n",
       " -1/6*sqrt(3)*D13 - 1/4*D2,\n",
       " 0,\n",
       " 1/6*sqrt(3)*D11 + 1/4*D7]"
      ]
     },
     "execution_count": 49,
     "metadata": {},
     "output_type": "execute_result"
    }
   ],
   "source": [
    "D12_bracket = [sum(g2_esc_bon(bracket(d12,v))[i]*base_simbólica[i] for i in range(14)) for v in g2_basis]\n",
    "D12_bracket"
   ]
  },
  {
   "cell_type": "markdown",
   "id": "37191d67",
   "metadata": {},
   "source": [
    "Entonces $D_{9} \\in \\mathcal J$ y por lo tanto $\\mathcal J = \\mathfrak g_2.$\n",
    "\n",
    "$\\bullet$ Supongamos que $D_{13} \\in \\mathcal J:$"
   ]
  },
  {
   "cell_type": "code",
   "execution_count": 50,
   "id": "efc7eb68",
   "metadata": {},
   "outputs": [
    {
     "data": {
      "text/html": [
       "<html><script type=\"math/tex; mode=display\">\\newcommand{\\Bold}[1]{\\mathbf{#1}}\\left[0, 0, 0, \\frac{1}{6} \\, \\sqrt{3} D_{8}, \\frac{1}{4} \\, D_{9}, \\frac{1}{4} \\, D_{10}, \\frac{1}{4} \\, D_{11}, \\frac{1}{4} \\, D_{12}, -\\frac{1}{6} \\, \\sqrt{3} D_{3}, \\frac{1}{6} \\, \\sqrt{3} D_{10} - \\frac{1}{4} \\, D_{4}, -\\frac{1}{6} \\, \\sqrt{3} D_{9} - \\frac{1}{4} \\, D_{5}, \\frac{1}{6} \\, \\sqrt{3} D_{12} - \\frac{1}{4} \\, D_{6}, -\\frac{1}{6} \\, \\sqrt{3} D_{11} - \\frac{1}{4} \\, D_{7}, 0\\right]</script></html>"
      ],
      "text/latex": [
       "$$\\newcommand{\\Bold}[1]{\\mathbf{#1}}\\left[0, 0, 0, \\frac{1}{6} \\, \\sqrt{3} D_{8}, \\frac{1}{4} \\, D_{9}, \\frac{1}{4} \\, D_{10}, \\frac{1}{4} \\, D_{11}, \\frac{1}{4} \\, D_{12}, -\\frac{1}{6} \\, \\sqrt{3} D_{3}, \\frac{1}{6} \\, \\sqrt{3} D_{10} - \\frac{1}{4} \\, D_{4}, -\\frac{1}{6} \\, \\sqrt{3} D_{9} - \\frac{1}{4} \\, D_{5}, \\frac{1}{6} \\, \\sqrt{3} D_{12} - \\frac{1}{4} \\, D_{6}, -\\frac{1}{6} \\, \\sqrt{3} D_{11} - \\frac{1}{4} \\, D_{7}, 0\\right]$$"
      ],
      "text/plain": [
       "[0,\n",
       " 0,\n",
       " 0,\n",
       " 1/6*sqrt(3)*D8,\n",
       " 1/4*D9,\n",
       " 1/4*D10,\n",
       " 1/4*D11,\n",
       " 1/4*D12,\n",
       " -1/6*sqrt(3)*D3,\n",
       " 1/6*sqrt(3)*D10 - 1/4*D4,\n",
       " -1/6*sqrt(3)*D9 - 1/4*D5,\n",
       " 1/6*sqrt(3)*D12 - 1/4*D6,\n",
       " -1/6*sqrt(3)*D11 - 1/4*D7,\n",
       " 0]"
      ]
     },
     "execution_count": 50,
     "metadata": {},
     "output_type": "execute_result"
    }
   ],
   "source": [
    "D13_bracket = [sum(g2_esc_bon(bracket(d13,v))[i]*base_simbólica[i] for i in range(14)) for v in g2_basis]\n",
    "D13_bracket"
   ]
  },
  {
   "cell_type": "markdown",
   "id": "4dddc2e4",
   "metadata": {},
   "source": [
    "Entonces $D_8 \\in \\mathcal J$ y tenemos $J = \\mathfrak g_2$."
   ]
  }
 ],
 "metadata": {
  "kernelspec": {
   "display_name": "SageMath 9.5",
   "language": "sage",
   "name": "sagemath"
  },
  "language_info": {
   "codemirror_mode": {
    "name": "ipython",
    "version": 3
   },
   "file_extension": ".py",
   "mimetype": "text/x-python",
   "name": "python",
   "nbconvert_exporter": "python",
   "pygments_lexer": "ipython3",
   "version": "3.10.4"
  }
 },
 "nbformat": 4,
 "nbformat_minor": 5
}
