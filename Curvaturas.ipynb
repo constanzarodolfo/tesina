{
 "cells": [
  {
   "cell_type": "code",
   "execution_count": 17,
   "id": "724b4c1e",
   "metadata": {},
   "outputs": [],
   "source": [
    "load('Productos c-d.py')\n",
    "load('g2.py')\n",
    "load('O to z.py')"
   ]
  },
  {
   "cell_type": "markdown",
   "id": "43d52822",
   "metadata": {},
   "source": [
    "Vamos a utilizar el paper de Milnor donde se muestran fórmulas más sencillas para el cálculo de curvaturas. En dicho paper se trabaja sobre bases ortonormales en el álgebra de Lie, por lo que calcularemos una para $\\mathfrak g_2$ con el producto interno $\\langle\\,,\\rangle^*$."
   ]
  },
  {
   "cell_type": "markdown",
   "id": "76a5024a",
   "metadata": {},
   "source": [
    "#### Cargamos una base ortonormal de $\\mathfrak g_2$ para $\\langle\\,,\\rangle^*$"
   ]
  },
  {
   "cell_type": "markdown",
   "id": "5c29e242",
   "metadata": {},
   "source": [
    "Consideremos la base ortonormal de $T_{p_0}\\mathscr Z$ que conseguimos aplicando el proceso de Gram-Schmidt a la base dada por $\\{D_0\\cdot p_0,\\dots,D_{13}\\cdot p_0\\}$ donde $\\{D_0,\\dots,D_{13}\\}$ es la base de $\\mathfrak g_2$ que es ortonormal para la métrica bi-invariante."
   ]
  },
  {
   "cell_type": "code",
   "execution_count": 18,
   "id": "de064e09",
   "metadata": {},
   "outputs": [],
   "source": [
    "p0 = octs_to_Z(o_basis[1],o_basis[2],o_basis[4],-o_basis[7])\n",
    "Tp0Z_basis = [act_g2_Z(A,p0) for A in g2_basis]\n",
    "from sage.modules.misc import gram_schmidt\n",
    "Tp0Z_BO = gram_schmidt(Tp0Z_basis)[0]\n",
    "M1 = matrix(14,14,[v*w for v in Tp0Z_BO for w in Tp0Z_BO])\n",
    "\n",
    "Tp0Z_BON = [Tp0Z_BO[i]*(1/sqrt(M1[i,i])) for i in range(14)]"
   ]
  },
  {
   "cell_type": "markdown",
   "id": "820f4419",
   "metadata": {},
   "source": [
    "Obtenemos las matrices $A_i \\in\\mathfrak g_2$ tales que $A_i \\cdot p_0$ es el $i$-ésimo elemento de la base ortonormal de $T_{p_0}\\mathscr Z$."
   ]
  },
  {
   "cell_type": "code",
   "execution_count": 19,
   "id": "647cc1c5",
   "metadata": {},
   "outputs": [],
   "source": [
    "def A(k,TP_base):\n",
    "    \"\"\"\n",
    "    devuelve la matriz de g2 asociada al elemento k-ésimo de la base TP_base\n",
    "    \"\"\"\n",
    "    #primer sistema\n",
    "    A11 = D_g2_gen * o_basis[1]\n",
    "    A11_eqs = flatten([(A11 - Z_to_octs(TP_base[k])[0]).list()])\n",
    "    B1 = D_g2_gen.subs(solve(A11_eqs, D.list(),algorithm='sympy'))\n",
    "    #segundo sistema\n",
    "    A12 = B1 * o_basis[2]\n",
    "    A12_eqs = flatten([(A12 - Z_to_octs(TP_base[k])[1]).list()])\n",
    "    B2 = B1.subs(solve(A12_eqs, D.list(),algorithm='sympy'))\n",
    "    #tercer sistema\n",
    "    A13 = B2 * o_basis[4]\n",
    "    A13_eqs = flatten([(A13 - Z_to_octs(TP_base[k])[2]).list()])\n",
    "    B3 = B2.subs(solve(A13_eqs, D.list(),algorithm='sympy'))\n",
    "    #cuarto sistema\n",
    "    A14 = - B3 * o_basis[7] \n",
    "    A14_eqs = flatten([(A14 - Z_to_octs(TP_base[k])[3]).list()])\n",
    "    A = B3.subs(solve(A14_eqs, D.list(),algorithm='sympy'))\n",
    "    return A\n",
    "\n",
    "g2_BON = [A(i,Tp0Z_BON) for i in range(14)]"
   ]
  },
  {
   "cell_type": "markdown",
   "id": "7e8ffc7f",
   "metadata": {},
   "source": [
    "Así, por la definición de la métrica $\\langle,\\rangle$ tenemos que esta base $\\{A_0,\\dots,A_{13}\\}$ es una base ortonormal para la métrica $\\langle\\,,\\rangle^*$.\n",
    "\n",
    "Estas bases ortonormales de $T_{p_0}\\mathscr Z$ y $\\mathfrak g_2$ quedan cargadas en las listas `Tp0Z_BON` y `g2_BON`."
   ]
  },
  {
   "cell_type": "markdown",
   "id": "90b77c60",
   "metadata": {},
   "source": [
    "# Curvatura seccional"
   ]
  },
  {
   "cell_type": "markdown",
   "id": "132e1f44",
   "metadata": {},
   "source": [
    "En $G_2$ tenemos una métrica definida por el pullback de la métrica en $\\mathscr{Z}$ heredada de $\\mathbb R^{32}$, la cual denotaremos por $\\langle,\\rangle^*$. Nuestro objetivo ahora es calcular la curvatura seccional de $G_2$ para esta métrica."
   ]
  },
  {
   "cell_type": "markdown",
   "id": "16eca2a9",
   "metadata": {},
   "source": [
    "Para vectores ortonormales $u,v$ la curvatura seccional está dada por\n",
    "\n",
    "$$K(u,v) = \\langle R(u,v)u, v\\rangle$$\n",
    "\n",
    "En el trabajo de Milnor se prueba lo siguiente\n",
    "\n",
    "Dado un grupo de Lie con una métrica invariante a izquierda, $(G,\\langle,\\rangle)$, para cualquier base ortonormal de $\\mathfrak g$ y con coeficientes de estructura $\\alpha_{ijk}$, la curvatra seccional $K(e_i,e_j)$ está dada por  \n",
    "\n",
    "\\begin{align*}\n",
    "K(e_i,e_j) &= \\sum_{k} \\Big( \\tfrac{1}{2} \\alpha_{ijk}\\big(-\\alpha_{ijk} + \\alpha_{jki} + \\alpha_{kij}\\big) \\\\\n",
    "& - \\tfrac{1}{4}\\big(\\alpha_{ijk}-\\alpha_{jki}+\\alpha_{kij}\\big)\\big(\\alpha_{ijk}+\\alpha_{jki}-\\alpha_{kij}\\big) \\\\\n",
    "& - \\alpha_{kii}\\alpha_{kjj}\\Big)\n",
    "\\end{align*}"
   ]
  },
  {
   "cell_type": "markdown",
   "id": "b1557dbd",
   "metadata": {},
   "source": [
    " Armamos un programa para calcular los coeficientes $\\alpha_{ijk} = \\langle[A_i,A_j],A_k\\rangle^*$."
   ]
  },
  {
   "cell_type": "code",
   "execution_count": 20,
   "id": "5891a3de",
   "metadata": {},
   "outputs": [],
   "source": [
    "def alpha(i,j,k):\n",
    "    \"\"\"\n",
    "    función que recive números i,j,k entre 0 y 13 y devuelve el coeficiente alfa_{ijk} en la base ortonormal de g_2, \n",
    "    g2_BON\n",
    "    \"\"\"\n",
    "    H = bracket(g2_BON[i],g2_BON[j])\n",
    "    h = act_g2_Z(H,p0)\n",
    "    return h*Tp0Z_BON[k]\n",
    "\n",
    "alphas = {(i,j,k): alpha(i,j,k) for i in range(14) for j in range(14) for k in range(14)}"
   ]
  },
  {
   "cell_type": "markdown",
   "id": "ce646ee0",
   "metadata": {},
   "source": [
    "Con esto y la fórmula expresada antes, calculamos la curvatura seccional entre elementos de la base ortonormal como sigue:"
   ]
  },
  {
   "cell_type": "code",
   "execution_count": 21,
   "id": "dc2e3157",
   "metadata": {},
   "outputs": [],
   "source": [
    "def curv_sec(i,j):\n",
    "    h = sum(1/2*alphas[(i,j,k)]*(-alphas[(i,j,k)]+alphas[(j,k,i)]+alphas[(k,i,j)]) - 1/4*(alphas[(i,j,k)]-alphas[(j,k,i)]+alphas[(k,i,j)])*(alphas[(i,j,k)]+alphas[(j,k,i)]-alphas[(k,i,j)])-alphas[(k,i,i)]*alphas[(k,j,j)] for k in range(14))\n",
    "    return h   "
   ]
  },
  {
   "cell_type": "code",
   "execution_count": 22,
   "id": "90d9c3b4",
   "metadata": {},
   "outputs": [
    {
     "data": {
      "text/plain": [
       "[0, 1/2, 1/2, 0, 1/8, 1/6, 1/8, 1/6, 0, 1/6, -1/8, 1/6, -1/8]"
      ]
     },
     "execution_count": 22,
     "metadata": {},
     "output_type": "execute_result"
    }
   ],
   "source": [
    "[curv_sec(i,0)._sympy_().simplify()._sage_() for i in range(13)]"
   ]
  },
  {
   "cell_type": "markdown",
   "id": "4263da1a",
   "metadata": {},
   "source": [
    "Como se puede observar, existen casos donde la curvatura seccional es negativa."
   ]
  },
  {
   "cell_type": "markdown",
   "id": "d8e605c8",
   "metadata": {},
   "source": [
    "## Curvatura de Ricci"
   ]
  },
  {
   "cell_type": "markdown",
   "id": "5d70ddd6",
   "metadata": {},
   "source": [
    "La *curvatura de Ricci*, $Ric(Y,Z)$, se define como la traza de la transformación \n",
    "\n",
    "$$X \\mapsto R(X,Y)Z.$$\n",
    "\n",
    "Como $R$ es lineal en las tres variables, resulta que la aplicación definida antes es una aplicación lineal de $\\mathfrak g \\rightarrow \\mathfrak g$ por lo que se puede representar como una matriz respecto a una base ortonormal $\\{e_0,e_1,\\dots,e_n\\}$ de $\\mathfrak g$. Entonces, para esta base se tiene que la curvatura de Ricci resulta\n",
    "\n",
    "$$Ric(Y,Z) = \\sum_i \\langle R(e_i,Y)Z, e_i \\rangle.$$\n",
    "\n",
    "Definimos la *curvatura de Ricci en la dirección $X$*\n",
    "\n",
    "$$r(X) = Ric(X,X) = \\sum_{i}\\langle R(e_i,X)X, e_i \\rangle$$\n",
    "\n",
    "para $X \\in \\mathfrak g$ unitario.\n",
    "\n",
    "Una variedad riemanniana se dice una *variedad de Einstein* si existe una constante $\\lambda \\in \\mathbb R$ tal que $$Ric(X,Y) = \\lambda \\langle X,Y\\rangle.$$ \n",
    "\n",
    "Observemos que $Ric : \\mathfrak g \\times \\mathfrak g \\rightarrow \\mathbb R$ es una aplicación bilineal, por lo que considerando una base ortonormal es posible represntarla a través una matriz $[Ric]$ donde la entrada $ij$ es $Ric(e_i,e_j)$. Entonces, para ver si un variedad riemanniana $G$ es Einstein, sólo debemos verificar si $$[Ric] = \\lambda Id$$ para algún $\\lambda \\in \\mathbb R$."
   ]
  },
  {
   "cell_type": "markdown",
   "id": "83eb4a5d",
   "metadata": {},
   "source": [
    "Nuestro objetivo ahora es ver si $(G_2,\\langle\\,,\\rangle^*)$ es una variedad de Einstein. Entonces, considerando la base ortonormal $\\{A_0,A_1,\\dots,A_{13}\\}$ en $\\mathfrak g_2$ tenemos \n",
    "\n",
    "$$Ric(Y,Z) = \\sum_{i=0}^{13} \\langle R(A_i,Y)Z, A_i \\rangle^*$$\n",
    "\n",
    "y\n",
    "\n",
    "$$r(X) = \\sum_{i}\\langle R(A_i,X)X, A_i \\rangle^*.$$\n",
    "\n",
    "Para poder ambas curvaturas, primero definamos una forma genérica para el tensor de curvatura para $A_i,Y,Z$. Recordemos que\n",
    "\n",
    "$$R(A_i,Y)Z =  \\nabla_{[A_i,Y]}Z + \\nabla_Y\\nabla_{A_i} Z -\\nabla_X \\nabla_{A_i} Z.$$\n",
    "\n",
    "Si $Y = \\sum_{i=0}^{13} Y_i \\cdot A_i$ y $Z = \\sum_{i=0}^{13} Z_i \\cdot A_i$ entonces\n",
    "\n",
    "$$\\nabla_{[A_i,Y]}Z = \\nabla_{[A_i, \\sum_{j=0}^{13} Y_j \\cdot A_j]}\\big(\\sum_{k=0}^{13} Z_k \\cdot e_k\\big) = \\sum_{j=0}^{13} Y_j \\Big(\\sum_{k=1}^{14} Z_k \\cdot \\nabla_{[A_i,A_j]}A_k \\Big)$$\n",
    "\n",
    "$$\\nabla_Y\\nabla_{A_i} Z = \\nabla_{\\sum_{j=0}^{13} Y_j \\cdot A_j}\\nabla_{A_i}\\big(\\sum_{k=0}^{13} Z_k \\cdot A_k\\big) = \\sum_{j=0}^{13} Y_j \\Big(\\sum_{k=1}^{14} Z_k \\cdot \\nabla_{A_j}\\nabla_{A_i}A_k \\Big)$$\n",
    "\n",
    "$$\\nabla_{A_i}\\nabla_Y Z = \\nabla_{A_i}\\nabla_{\\sum_{j=0}^{13} Y_j \\cdot A_j}\\big(\\sum_{k=0}^{13} Z_k \\cdot A_k\\big) = \\sum_{j=0}^{13} Y_j \\Big(\\sum_{k=1}^{14} Z_k \\cdot \\nabla_{A_i}\\nabla_{A_j}A_k \\Big)$$"
   ]
  },
  {
   "cell_type": "markdown",
   "id": "c0a0c1f1",
   "metadata": {},
   "source": [
    "Entonces todo se resume a poder calcular $\\nabla_{[A_i,A_j]}A_k$ y $\\nabla_{A_j}\\nabla_{A_i}A_k$ para todos $i,j,k \\in \\{0,1,\\dots,13\\}$. Para esto utilizamos un resultado que figura en el trabajo de Milnor para poder programar la conexión de Levi-Civita: si $\\{e_0,\\dots,e_{13}\\}$ es una base ortonormal de $\\mathfrak g_2$ entonces\n",
    "\n",
    "$$\\nabla_{e_i}e_j = \\sum_k \\tfrac{1}{2} (\\alpha_{ijk}-\\alpha_{jki}+\\alpha_{kij}) e_k.$$"
   ]
  },
  {
   "cell_type": "markdown",
   "id": "77c21239",
   "metadata": {},
   "source": [
    "Definimos $\\nabla_{A_i}A_j = \\sum_k \\tfrac{1}{2} (\\alpha_{ijk}-\\alpha_{jki}+\\alpha_{kij}) A_k$ como sigue"
   ]
  },
  {
   "cell_type": "code",
   "execution_count": 23,
   "id": "5c315fd3",
   "metadata": {},
   "outputs": [],
   "source": [
    "def nabla_lc(i,j):\n",
    "    \"\"\"\n",
    "    función que recibe números enteros i,j entre 0 y 13 y devuelve la conexión Levi-Civita de A_j en la dirección de\n",
    "    A_i para A_i,A_j en la base ortonormal de g_2, g2_BON\n",
    "    \"\"\"\n",
    "    h = sum((alphas[(i,j,k)]-alphas[(j,k,i)]+alphas[(k,i,j)])*g2_BON[k] for k in range(14))\n",
    "    return 1/2*h\n",
    "\n",
    "nabla_base = {(i,j):nabla_lc(i,j) for i in range(14) for j in range(14)}"
   ]
  },
  {
   "cell_type": "markdown",
   "id": "62758689",
   "metadata": {},
   "source": [
    "Definimos ahora la conexión de Levi-Civita para dos elementos cualesquiera en $\\mathfrak g_2$ usando la bilinealidad de la conexión"
   ]
  },
  {
   "cell_type": "code",
   "execution_count": 24,
   "id": "8e414a64",
   "metadata": {},
   "outputs": [],
   "source": [
    "def levi_civita(A,B):\n",
    "    \"\"\"\n",
    "    función que recibe dos matrices en g_2 y devuelve la conexión Levi-Civita de B en la dirección de A.\n",
    "    Observación: Esta función no verifica que A y B sean elementos de g_2\n",
    "    \"\"\"\n",
    "    X = act_g2_Z(A,p0)\n",
    "    Y = act_g2_Z(B,p0)\n",
    "    Y_coef = [Y*Tp0Z_BON[j] for j in range(14)]\n",
    "    X_coef = [X*Tp0Z_BON[j] for j in range(14)]\n",
    "    h = sum(X_coef[i]*sum((Y_coef[j])*nabla_base[(i,j)] for j in range(14)) for i in range(14))\n",
    "    return h"
   ]
  },
  {
   "cell_type": "markdown",
   "id": "20a1dece",
   "metadata": {},
   "source": [
    "Como queremos calcular $\\nabla_{[A_i,A_j]}A_k$, cargamos un directorio con el corchete de elementos de la base"
   ]
  },
  {
   "cell_type": "code",
   "execution_count": 25,
   "id": "53f73156",
   "metadata": {},
   "outputs": [],
   "source": [
    "corch_base = {(i,j): g2_BON[i]*g2_BON[j]-g2_BON[j]*g2_BON[i] for i in range(14) for j in range(14)}"
   ]
  },
  {
   "cell_type": "markdown",
   "id": "9f1db7f6",
   "metadata": {},
   "source": [
    "con esto definimos otro diccionario con la conexión Levi-Civita de un elemento de la base en la dirección del corchete entre dos elementos ($\\nabla_{[A_i,A_j]}A_k$)"
   ]
  },
  {
   "cell_type": "code",
   "execution_count": 26,
   "id": "ba4ba8c2",
   "metadata": {},
   "outputs": [],
   "source": [
    "## Long time\n",
    "## %time LC_corch_base = {(i,j,k) : levi_civita(corch_base[(i,j)],g2_BON[k]) for i in range(14) for j in range(14) for k in range(14)}\n",
    "## save(LC_corch_base, \"LC_corch_base\")"
   ]
  },
  {
   "cell_type": "markdown",
   "id": "3befb42f",
   "metadata": {},
   "source": [
    "como el diccionario anterior dura bastante tiempo, al resultado lo guardamos en un archivo .sobj y lo cargamos"
   ]
  },
  {
   "cell_type": "code",
   "execution_count": 27,
   "id": "1e18a044",
   "metadata": {},
   "outputs": [],
   "source": [
    "LC_corch_base = load(\"LC_corch_base.sobj\")"
   ]
  },
  {
   "cell_type": "markdown",
   "id": "908a842d",
   "metadata": {},
   "source": [
    "Y ahora definimos un último diccionario uno con $\\nabla_{A_j}\\nabla_{A_i}A_k$ para elementos de la base."
   ]
  },
  {
   "cell_type": "code",
   "execution_count": 28,
   "id": "cc085a4c",
   "metadata": {},
   "outputs": [],
   "source": [
    "## Long time\n",
    "##levi_civita_base = {(j,i,k) : levi_civita(g2_BON[j],nabla_base[(i,k)]) \n",
    "##                    for i in range(14) for j in range(14) for k in range(14)}"
   ]
  },
  {
   "cell_type": "markdown",
   "id": "b112573e",
   "metadata": {},
   "source": [
    "como el diccionario anterior dura bastante tiempo, al resultado lo guardamos en un archivo .sobj y lo cargamos"
   ]
  },
  {
   "cell_type": "code",
   "execution_count": 29,
   "id": "cb1828f9",
   "metadata": {},
   "outputs": [],
   "source": [
    "levi_civita_base = load(\"levi_civita_base.sobj\")"
   ]
  },
  {
   "cell_type": "markdown",
   "id": "1aaea02b",
   "metadata": {},
   "source": [
    "Definimos ahora el tensor $R(A_i,Y)Z$ como sigue"
   ]
  },
  {
   "cell_type": "code",
   "execution_count": 30,
   "id": "61c49959",
   "metadata": {},
   "outputs": [],
   "source": [
    "def tensor_para_ricci(i,Y,Z):\n",
    "    \"\"\"\n",
    "    función que recibe dos matrices de g_2 y un número i entre 0 y 13 y devuelve R(A_i,Y)Z donde e_u está\n",
    "    en la base en la base ortonormal de g_2, g2_BON.\n",
    "    Observación: Este programa no verifica que Y y Z sean elementos de g_2\n",
    "    \"\"\"\n",
    "    y = act_g2_Z(Y,p0)\n",
    "    z = act_g2_Z(Z,p0)\n",
    "    y_coef = [y*Tp0Z_BON[j] for j in range(14)]\n",
    "    z_coef = [z*Tp0Z_BON[j] for j in range(14)]\n",
    "    nabla_corch = sum(y_coef[j] * sum(z_coef[k]*LC_corch_base[(j,i,k)] for k in range(14))for j in range(14))\n",
    "    nabla_yiz =  sum(y_coef[j] * sum(z_coef[k]*levi_civita_base[(j,i,k)] for k in range(14))for j in range(14))\n",
    "    nabla_iyz =  sum(y_coef[j] * sum(z_coef[k]*levi_civita_base[(i,j,k)] for k in range(14))for j in range(14))\n",
    "    return nabla_corch + nabla_yiz - nabla_iyz"
   ]
  },
  {
   "cell_type": "markdown",
   "id": "724eabcb",
   "metadata": {},
   "source": [
    "### Curvatura de Ricci"
   ]
  },
  {
   "cell_type": "markdown",
   "id": "fa84dd5f",
   "metadata": {},
   "source": [
    "Definimos la curvatura de Ricci para $Y,Z$ en $\\mathfrak g_2$"
   ]
  },
  {
   "cell_type": "code",
   "execution_count": 35,
   "id": "bb958e08",
   "metadata": {},
   "outputs": [],
   "source": [
    "def curv_ricci(Y,Z):\n",
    "    \"\"\"\n",
    "    Observación: este programa no verifica que X esté en g_2\n",
    "    \"\"\"\n",
    "    tensor = [tensor_para_ricci(i,Y,Z) for i in range(14)]\n",
    "    tensor_p0 = [act_g2_Z(tensor[i], p0) for i in range(14)]\n",
    "    return sum(tensor_p0[i]*Tp0Z_BON[i] for i in range(14))"
   ]
  },
  {
   "cell_type": "markdown",
   "id": "0151329c",
   "metadata": {},
   "source": [
    "### Curvatura de Ricci en la dirección de $X$"
   ]
  },
  {
   "cell_type": "markdown",
   "id": "144814fb",
   "metadata": {},
   "source": [
    "Definimos la curvatura de Ricci en la dirección de $X$"
   ]
  },
  {
   "cell_type": "code",
   "execution_count": 37,
   "id": "c45975ad",
   "metadata": {},
   "outputs": [],
   "source": [
    "def curv_dir_ricci(X):\n",
    "    \"\"\"\n",
    "    Observación: este programa no verifica que X esté en g_2\n",
    "    \"\"\"\n",
    "    tensor = [tensor_para_ricci(i,X,X) for i in range(14)]\n",
    "    tensor_p0 = [act_g2_Z(tensor[i], p0) for i in range(14)]\n",
    "    return sum(tensor_p0[i]*Tp0Z_BON[i] for i in range(14))"
   ]
  },
  {
   "cell_type": "markdown",
   "id": "bafd9489",
   "metadata": {},
   "source": [
    "Creamos la lista con la curvatura de Ricci en la dirección de los vectores de la base ortonormal de $\\mathfrak g_2$"
   ]
  },
  {
   "cell_type": "code",
   "execution_count": 38,
   "id": "9fdf02fc",
   "metadata": {},
   "outputs": [
    {
     "name": "stdout",
     "output_type": "stream",
     "text": [
      "CPU times: user 16.8 s, sys: 109 ms, total: 16.9 s\n",
      "Wall time: 17.8 s\n"
     ]
    }
   ],
   "source": [
    "#Long time\n",
    "%time curv_ricci_base = [curv_dir_ricci(g2_BON[i]) for i in range(14)]"
   ]
  },
  {
   "cell_type": "code",
   "execution_count": 40,
   "id": "d7595998",
   "metadata": {},
   "outputs": [
    {
     "data": {
      "text/plain": [
       "[17/3,\n",
       " 95/18,\n",
       " 17/3,\n",
       " 17/3,\n",
       " 17/3,\n",
       " 95/18,\n",
       " 17/3,\n",
       " 95/18,\n",
       " 95/18,\n",
       " 95/18,\n",
       " 17/3,\n",
       " 95/18,\n",
       " 17/3,\n",
       " 17/3]"
      ]
     },
     "execution_count": 40,
     "metadata": {},
     "output_type": "execute_result"
    }
   ],
   "source": [
    "curv_ricci_base_n = [curv_ricci_base[i]._sympy_().simplify()._sage_() for i in range(14)]\n",
    "curv_ricci_base_n"
   ]
  }
 ],
 "metadata": {
  "kernelspec": {
   "display_name": "SageMath 9.5",
   "language": "sage",
   "name": "sagemath"
  },
  "language_info": {
   "codemirror_mode": {
    "name": "ipython",
    "version": 3
   },
   "file_extension": ".py",
   "mimetype": "text/x-python",
   "name": "python",
   "nbconvert_exporter": "python",
   "pygments_lexer": "ipython3",
   "version": "3.10.4"
  }
 },
 "nbformat": 4,
 "nbformat_minor": 5
}
